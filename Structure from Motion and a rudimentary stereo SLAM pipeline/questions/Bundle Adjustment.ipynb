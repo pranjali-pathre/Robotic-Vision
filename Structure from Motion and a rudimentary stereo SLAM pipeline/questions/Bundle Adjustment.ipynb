{
 "cells": [
  {
   "cell_type": "markdown",
   "metadata": {},
   "source": [
    "# Bundle Adjustment\n",
    "\n",
    "Part of this assignment is based on scipy-cookbook. It will take around 2 hours to finish."
   ]
  },
  {
   "cell_type": "markdown",
   "metadata": {},
   "source": [
    "# Question 1: Reading"
   ]
  },
  {
   "cell_type": "markdown",
   "metadata": {},
   "source": [
    "**1. Read the paper 'Building Rome in a Day' and briefly write about the fundamental idea behind the problem and solution. No need to be verbose, just write about the challenge with the task and how the pipeline is implemented (do not include details about performance/parallelization).**\n",
    "\n",
    "#### Idea:\n",
    "\n",
    "The paper presents a system that can match and reconstruct 3D scenes from extensive collections of photographs found by searching for a given city (e.g., Rome) on the Internet. Their system uses an array of novel parallel distributed matching and reconstruction algorithms designed to maximize parallelism at each stage in the pipeline and minimize serialization bottlenecks. Using this reconstruction, a city could be 'built' using considerable resources and data in a day or less. Another primary purpose was to scale the system appropriately based on the possible computational ability and the extent of the given problem. This system is one to two orders of magnitude larger than the most extensive results reported in the literature. The system has used the existing matching algorithms and SfM algorithms such as SIFT, bundle adjustment, etc.\n",
    "\n",
    "\n",
    "#### Challenges:\n",
    "Some of the difficulties encountered are:\n",
    "\n",
    "1. Structured data collected from the same calibrated camera at a constant sampling rate and different sensors, make the calculations more flexible. On the other hand, unstructured data is taken from different cameras, in changing lighting conditions, with significantly less geographic data and no camera calibration knowledge. As only unstructured information is available online, the primary problem is this. \n",
    "    \n",
    "2. The step in the pipeline involving pruning and verifyng matches using a RANSAC-based estimation of essential or fundamental matrix is computationally very heavy; we cannot implement this on all the image features and therefore need to be filtered before applying this process.\n",
    "    \n",
    "3. It was essential to choose good algorithms that would satisfy the requirement of optimized memory usage and I/O bandwidth while choosing algorithms that work well together, scale well and provide high performance. In some cases, the authors designed and implemented the algorithms themselves.\n",
    "4. Metadata such as the website and username are used to group images, which may or may not always be practical. A better strategy would exploit all the textual tags and geotags associated with the images to predict what images are likely to match and then distribute the data accordingly.\n",
    "5. Since multi-threading and parallelism are not implemented in all parts and rely on the redundancy in various images, scaling is a problem. More optimization is required in the way pictures are distributed for processing.\n",
    "6. The current system uses batch jobs. However, adding more images to extend the system could be more effective.\n",
    "7. The track generation process merges tracks based on shared features, and inconsistent tracks can be generated. In such cases, they drop the offending points from the track.\n",
    "8. We use the skeletal sets algorithm to find this minimal set, which computes a spanning collection of photographs that preserve important connectivity data in the image graph. A two-frame reconstruction is calculated for each matching image pair with known focal lengths.\n",
    "\n",
    "\n",
    "#### Implementing the pipeline:\n",
    "\n",
    "The essential steps include pre-processing, image-matching, track-generation, geometric estimation, and distributed Computing Engine.\n",
    "1. In pre-processing, the images are assigned to cluster nodes from a central store. This is done in order to download images without being affected by the experiments on-demand in fixed-size chunks to perform load balancing. After verifying the is done, we extract the EXIF tags and record the focal length. Next, larger images are downsampled with maintaining aspect ratios and scaling focal lengths. The subsequent steps include converting to grayscale, extracting SIFT features, and partitioning the images.\n",
    "2. For matching, a multi-stage matching scheme was used. Each stage involved a proposal and a verification step. The system determines a set of image pairs that share general scene elements, and the confirmation involves specific and extensive feature matching. Next, vocabulary trees and query expansion are used for proposals and a greedy bin-packing algorithm to choose images to transfer to each node for verification involving photometric matching between feature descriptors and determining the essential or fundamental matrix depending on the available information.\n",
    "3. For each connected component the run structure is generated after track generation. It is good to reconstruct a minimal subset of images capturing essential connectivity of scene geometry and match graph. Pose estimation and a final bundle adjustment for refining SFM estimates could be used for adding all the remaining images. A skeletal sets algorithm is used by the authors that computes the spanning set of images. This set is used for estimating SFM parameters of the resulting components. The algorithm yields a larger set of components.\n",
    "\n",
    "The main stages of the pipeline can be concluded to have initially a pre-processing, matching, and geometric estimation. The pipeline involves dividing N images on M processors. Next, SIFT is used for feature extraction, and vocabulary tree vector quantization and term frequency counting are performed further. Subsequently, document frequency counting, TFIDF computation, and information broadcast are completed. The match verification tasks are then distributed using a round-robin bin-packing. Eventually, the match verification and proposal expansion occur depending on the images found in connected components using the next best k2 matches per image. Later, additional distributed verification, four more rounds of query expansion and validation, and track merging from local verified matches, followed by track aggregation into C connected components. Image-related components and distributed merging finally distribute the tracks.\n",
    "\n",
    "\n",
    "\n",
    "\n",
    "\n",
    "**2. How is this task different from a SLAM problem?**\n",
    "\n",
    "SLAM or Simultaneous localization and mapping is the computational problem of constructing or updating a map of an unknown environment while simultaneously keeping track of an agent's location within it. Here, images are obtained and used for constructing or updating the map of an unknown environment. In the SLAM problem, the poses of the robot are optimized using the given odometric constraints. Map of the unknown environment is constructed/updated while simultaneously keeping track of the agent's location within the map. Visual simultaneous localization and mapping (vSLAM) is the process of calculating the position and orientation of a camera, with respect to its surroundings, while simultaneously mapping the environment. This is different from the problem described in the  paper because the paper does not involve any sort of localization.It revolves around finding and matching various images and reconstructing a 3D environment. The paper doesn't involve any \"real-time\" images from a moving robot to create the map unlike in SLAM. The paper deals with images and data collected from the internet to connect isolated components together and recreate various sections of the environment by assembling all the pieces of information together."
   ]
  },
  {
   "cell_type": "markdown",
   "metadata": {},
   "source": [
    "# Question 2: Code!"
   ]
  },
  {
   "cell_type": "markdown",
   "metadata": {},
   "source": [
    "### Task\n",
    "We have a set of points in real world defined by their coordinates $(X, Y, Z)$ in some apriori chosen \"world coordinate frame\". We photograph these points by different cameras, which are characterized by their orientation and translation relative to the world coordinate frame and also by focal length and two radial distortion parameters (9 parameters in total). Then we precicely measure 2-D coordinates $(x, y)$ of the points projected by the cameras on images. Our task is to refine 3-D coordinates of original points as well as camera parameters, by minimizing the sum of squares of reprojecting errors."
   ]
  },
  {
   "cell_type": "markdown",
   "metadata": {},
   "source": [
    "We will be using a dataset from http://grail.cs.washington.edu/projects/bal/ for this task. Feel free to choose any of the ones mentioned on the page. Take the smallest file from each dataset (you can choose any but it will take longer to run, consume more memory)"
   ]
  },
  {
   "cell_type": "code",
   "execution_count": 2,
   "metadata": {},
   "outputs": [
    {
     "name": "stderr",
     "output_type": "stream",
     "text": [
      "INFO - 2021-12-03 21:55:48,053 - utils - NumExpr defaulting to 8 threads.\n"
     ]
    }
   ],
   "source": [
    "import urllib\n",
    "import copy\n",
    "import bz2\n",
    "import os\n",
    "import numpy as np\n",
    "import open3d as o3d"
   ]
  },
  {
   "cell_type": "markdown",
   "metadata": {},
   "source": [
    "First download the data file:"
   ]
  },
  {
   "cell_type": "code",
   "execution_count": 28,
   "metadata": {},
   "outputs": [],
   "source": [
    "BASE_URL = \"http://grail.cs.washington.edu/projects/bal/data/\"\n",
    "\n",
    "DATASET_NAME = \"venice/\"\n",
    "FILE_NAME = \"problem-89-110973-pre.txt.bz2\"\n",
    "\n",
    "URL = BASE_URL + DATASET_NAME + FILE_NAME"
   ]
  },
  {
   "cell_type": "code",
   "execution_count": 29,
   "metadata": {},
   "outputs": [],
   "source": [
    "if not os.path.isfile(FILE_NAME):\n",
    "    urllib.request.urlretrieve(URL, FILE_NAME)"
   ]
  },
  {
   "cell_type": "markdown",
   "metadata": {},
   "source": [
    "Now read the data from the file:"
   ]
  },
  {
   "cell_type": "code",
   "execution_count": 30,
   "metadata": {},
   "outputs": [],
   "source": [
    "def read_bal_data(file_name):\n",
    "    with bz2.open(file_name, \"rt\") as file:\n",
    "        n_cameras, n_points, n_observations = map(\n",
    "            int, file.readline().split())\n",
    "\n",
    "        camera_indices = np.empty(n_observations, dtype=int)\n",
    "        point_indices = np.empty(n_observations, dtype=int)\n",
    "        points_2d = np.empty((n_observations, 2))\n",
    "\n",
    "        for i in range(n_observations):\n",
    "            camera_index, point_index, x, y = file.readline().split()\n",
    "            camera_indices[i] = int(camera_index)\n",
    "            point_indices[i] = int(point_index)\n",
    "            points_2d[i] = [float(x), float(y)]\n",
    "\n",
    "        camera_params = np.empty(n_cameras * 9)\n",
    "        for i in range(n_cameras * 9):\n",
    "            camera_params[i] = float(file.readline())\n",
    "        camera_params = camera_params.reshape((n_cameras, -1))\n",
    "\n",
    "        points_3d = np.empty(n_points * 3)\n",
    "        for i in range(n_points * 3):\n",
    "            points_3d[i] = float(file.readline())\n",
    "        points_3d = points_3d.reshape((n_points, -1))\n",
    "\n",
    "    return camera_params, points_3d, camera_indices, point_indices, points_2d"
   ]
  },
  {
   "cell_type": "code",
   "execution_count": 31,
   "metadata": {},
   "outputs": [],
   "source": [
    "camera_params, points_3d, camera_indices, point_indices, points_2d = read_bal_data(FILE_NAME)"
   ]
  },
  {
   "cell_type": "code",
   "execution_count": 32,
   "metadata": {
    "scrolled": true
   },
   "outputs": [
    {
     "name": "stdout",
     "output_type": "stream",
     "text": [
      "camera_params: (89, 9);\n",
      "points_3d: (110973, 3);\n",
      "camera_indices: (562976,); \n",
      "point_indices: (562976,); \n",
      "points_2d: (562976, 2)\n"
     ]
    }
   ],
   "source": [
    "print(f\"camera_params: {camera_params.shape};\\npoints_3d: {points_3d.shape};\\n\"\n",
    "        f\"camera_indices: {camera_indices.shape}; \\npoint_indices: {point_indices.shape}; \\n\"\n",
    "        f\"points_2d: {points_2d.shape}\")"
   ]
  },
  {
   "cell_type": "markdown",
   "metadata": {},
   "source": [
    "Here we have numpy arrays:\n",
    "\n",
    "1. `camera_params` with shape `(n_cameras, 9)` contains initial estimates of parameters for all cameras. First 3 components in each row form a **rotation vector**, next 3 components form a translation vector, then a focal distance and two distortion parameters.\n",
    "2. `points_3d` with shape `(n_points, 3)` contains initial estimates of point coordinates in the world frame.\n",
    "3. `points_2d` with shape `(n_observations, 2)` contains measured 2-D coordinates of points projected on images in all the observations.\n",
    "4. `camera_ind` with shape `(n_observations,)` gives the index of the camera (from 0 to `n_cameras - 1`) associated with a particular observation.   \n",
    "5. `point_ind` with shape `(n_observations,)` contains indices of 3D points (from 0 to `n_points - 1`) involved in each observation."
   ]
  },
  {
   "cell_type": "markdown",
   "metadata": {},
   "source": [
    "# Visualise Point Cloud"
   ]
  },
  {
   "cell_type": "markdown",
   "metadata": {},
   "source": [
    "Visualise `points_3d`. It may not look like 'Venice' or any building as we are working with a small subset."
   ]
  },
  {
   "cell_type": "code",
   "execution_count": 33,
   "metadata": {
    "scrolled": false
   },
   "outputs": [],
   "source": [
    "pcd_cloud = o3d.geometry.PointCloud()\n",
    "pcd_cloud.points = o3d.utility.Vector3dVector(points_3d[:100000,:100000])\n",
    "o3d.visualization.draw_geometries([pcd_cloud])\n"
   ]
  },
  {
   "cell_type": "markdown",
   "metadata": {},
   "source": [
    "![pcd_2.png](./pcd_2.png)"
   ]
  },
  {
   "cell_type": "markdown",
   "metadata": {},
   "source": [
    "# Extract Parameters"
   ]
  },
  {
   "cell_type": "markdown",
   "metadata": {},
   "source": [
    "How many cameras and 3D points do we have? Calculate the number of parameters to estimate."
   ]
  },
  {
   "cell_type": "code",
   "execution_count": 34,
   "metadata": {
    "scrolled": true
   },
   "outputs": [
    {
     "name": "stdout",
     "output_type": "stream",
     "text": [
      "n_cameras: 89\n",
      "n_points: 110973\n",
      "Total number of parameters to estimate: 333720\n",
      "Total number of residuals: 1125952\n"
     ]
    }
   ],
   "source": [
    "n_cameras = camera_params.shape[0]\n",
    "# points_3d = points_3d[:100000,:100000]\n",
    "# point_indices = point_indices[:100000]\n",
    "n_points = points_3d.shape[0]\n",
    "\n",
    "n = 9 * n_cameras + 3 * n_points\n",
    "m = 2 * points_2d.shape[0]\n",
    "\n",
    "print(\"n_cameras: {}\".format(n_cameras))\n",
    "print(\"n_points: {}\".format(n_points))\n",
    "print(\"Total number of parameters to estimate: {}\".format(n))\n",
    "print(\"Total number of residuals: {}\".format(m))"
   ]
  },
  {
   "cell_type": "markdown",
   "metadata": {},
   "source": [
    "We chose a relatively small problem to reduce computation time, but scipy's algorithm is capable of solving much larger problems, although required time will grow proportionally."
   ]
  },
  {
   "cell_type": "markdown",
   "metadata": {},
   "source": [
    "Now define the function which returns a vector of residuals. We use numpy vectorized computations:"
   ]
  },
  {
   "cell_type": "markdown",
   "metadata": {},
   "source": [
    "### A short review on Transformations\n",
    "\n",
    "Rodrigues Formula: $$\\mathbf{R}=\\cos \\theta \\mathbf{I}+(1-\\cos \\theta) \\mathbf{n n}^{\\mathrm{T}}+\\sin \\theta \\mathbf{n}^{\\wedge}$$\n",
    "If described by a rotation vector, assuming that the rotation axis is a unit length vector $\\mathbf{n}$ and the angle is $\\theta$, then the vector $\\theta \\mathbf{n}$ can also describe this rotation. Here, rot_vecs = $\\theta \\mathbf{n}$."
   ]
  },
  {
   "cell_type": "code",
   "execution_count": 35,
   "metadata": {},
   "outputs": [],
   "source": [
    "def rotate(points, rot_vecs):\n",
    "    \"\"\"Rotate points by given rotation vectors.\n",
    "    \n",
    "    Rodrigues' rotation formula is used.\n",
    "    \"\"\"\n",
    "    theta = np.linalg.norm(rot_vecs, axis=1)[:, np.newaxis] #np.newaxis converts this into a column vector.\n",
    "    with np.errstate(invalid='ignore'):\n",
    "        v = rot_vecs / theta\n",
    "        v = np.nan_to_num(v)\n",
    "    dot = np.sum(points * v, axis=1)[:, np.newaxis]\n",
    "    cos_theta = np.cos(theta)\n",
    "    sin_theta = np.sin(theta)\n",
    "    \n",
    "    return (cos_theta * points) + ((1 - cos_theta) * v * dot) + (sin_theta * np.cross(v, points))"
   ]
  },
  {
   "cell_type": "markdown",
   "metadata": {},
   "source": [
    "## A short review on camera modelling & radial distortion\n",
    "\n",
    "\n",
    "\n",
    "- Each pixel moves radially away from (barrel) or towards (pincushion) the image center (c).\n",
    "- As a function of distance from $c: r_{c}^{2}=x_{c}^{2}+y_{c}^{2}$.\n",
    "- The shift $\\gamma$ can be modelled as: $\\gamma=1+k_{1} r_{c}^{2}+k_{2} r_{c}^{4}$ where ${k}_{1}$ and ${k}_{2}$ are radial distortion parameters.\n",
    "- The modified co-ordinates are:\n",
    "\n",
    "$$\\begin{array}{l}\n",
    "\\hat{x}_{c}=\\gamma x_{c} \\\\\n",
    "\\hat{y}_{c}=\\gamma y_{c}\n",
    "\\end{array} \n",
    "$$\n",
    "\n",
    "- **This is applied before the focal-length multiplier and center shift are applied**: Meaning before $K$ matrix is even applied. But how do we exactly do that?\n",
    "\n",
    "    $$\\mathbf{K}=\\left[\\begin{array}{ccc}\\alpha_{x} & 0 & x_{0} \\\\0 & \\alpha_{y} & y_{0} \\\\0 & 0 & 1\\end{array}\\right] ; \\qquad      \\lambda {p} = \\mathrm{x} =K[R \\quad t] \\mathrm{X}$$\n",
    "\n",
    "    $$x_{final} = \\gamma \\left(\\frac{f_0X}{Z}+c_x \\right)\n",
    "     \\qquad \\color{red} \\bigotimes \\textbf{wrong}$$\n",
    "\n",
    "    $$x_{final} =  \\left(f_0 \\left(\\gamma\\frac{X}{Z} \\right)+c_x \\right)\n",
    "     \\qquad \\color{surd} \\checkmark \\textbf{correct}$$"
   ]
  },
  {
   "cell_type": "markdown",
   "metadata": {},
   "source": [
    "### Summing it up\n",
    "Let $\\pmb{P} = (X, Y, Z)^T$ - a radius-vector of a point, $\\pmb{R}$ - a rotation matrix of a camera, $\\pmb{t}$ - a translation vector of a camera, $f$ - its focal distance, $k_1, k_2$ - its distortion parameters. Then the reprojecting is done as follows:\n",
    "\n",
    "\\begin{align}\n",
    "\\pmb{Q} = \\pmb{R} \\pmb{P} + \\pmb{t} \\\\\n",
    "\\pmb{q} = -\\begin{pmatrix} Q_x / Q_z \\\\ Q_y / Q_z \\end{pmatrix} \\\\\n",
    "\\pmb{p} = f (1 + k_1 \\lVert \\pmb{q} \\rVert^2 + k_2 \\lVert \\pmb{q} \\rVert^4) \\pmb{q}\n",
    "\\end{align}\n",
    "The resulting vector $\\pmb{p}=(x, y)^T$ contains image coordinates of the original point.\n",
    "![radial_distortion_1.png](./misc/radial_distortion_1.png) \n",
    "![radial_distortion_2.png](./misc/radial_distortion_2.png)"
   ]
  },
  {
   "cell_type": "code",
   "execution_count": 36,
   "metadata": {},
   "outputs": [],
   "source": [
    "def project(points, camera_params):\n",
    "    \"\"\"Convert 3-D points to 2-D by projecting onto images.\"\"\"\n",
    "    \n",
    "    proj_points = rotate(points, camera_params[:, :3])\n",
    "    proj_points += camera_params[:, 3:6]\n",
    "    proj_points = -proj_points[:, :2] / proj_points[:, 2, np.newaxis]\n",
    "    k1 = camera_params[:, 7]\n",
    "    k2 = camera_params[:, 8]\n",
    "    n = np.sum(proj_points ** 2, axis=1)\n",
    "    r = 1 + k1*n + k2*n*n\n",
    "    f = camera_params[:, 6]\n",
    "    proj_points = proj_points * (r * f)[:, np.newaxis]\n",
    "    return proj_points"
   ]
  },
  {
   "cell_type": "code",
   "execution_count": 37,
   "metadata": {},
   "outputs": [],
   "source": [
    "def fun(params, n_cameras, n_points, camera_indices, point_indices, points_2d):\n",
    "    \"\"\"Compute residuals.\n",
    "    \n",
    "    `params` contains camera parameters and 3-D coordinates.\n",
    "    \"\"\"\n",
    "    params = copy.deepcopy(params)\n",
    "    camera_params = params[:n_cameras * 9].reshape((n_cameras, 9))\n",
    "    \n",
    "    points_3d = params[n_cameras * 9:].reshape((n_points, 3))\n",
    "    points_proj = project(points_3d[point_indices], camera_params[camera_indices])\n",
    "    return (points_proj - points_2d).ravel()"
   ]
  },
  {
   "cell_type": "markdown",
   "metadata": {},
   "source": [
    "## A short review on Structure from Motion\n",
    "### Residual\n",
    "In our lecture, in the residual vector, we  wrote the elements in order: 11, 12, 13.., 1N, then 21, 22.. and so on till MN. However, notice that it is not the case here."
   ]
  },
  {
   "cell_type": "markdown",
   "metadata": {},
   "source": [
    "M -> camera, N -> 3D point (in our lectures, NOT in this code)\n",
    "![sfm_residual_1.png](../misc/sfm_residual_1.png)"
   ]
  },
  {
   "cell_type": "markdown",
   "metadata": {},
   "source": [
    "You can see that computing Jacobian of `fun` is cumbersome, thus we will rely on the finite difference approximation. To make this process time feasible we provide Jacobian sparsity structure (i. e. mark elements which are known to be non-zero):"
   ]
  },
  {
   "cell_type": "markdown",
   "metadata": {},
   "source": [
    "![sfm_jac_2.png](../misc/sfm_jac_2.png)"
   ]
  },
  {
   "cell_type": "markdown",
   "metadata": {},
   "source": [
    "Since the matrix is sparse, we can make use of datastructures that are meant for such a usecase - https://docs.scipy.org/doc/scipy/reference/generated/scipy.sparse.lil_matrix.html."
   ]
  },
  {
   "cell_type": "code",
   "execution_count": 38,
   "metadata": {},
   "outputs": [],
   "source": [
    "from scipy.sparse import lil_matrix"
   ]
  },
  {
   "cell_type": "markdown",
   "metadata": {},
   "source": [
    "The code for the matrix computation has been given to you, you will have to explain this function later on."
   ]
  },
  {
   "cell_type": "code",
   "execution_count": 39,
   "metadata": {},
   "outputs": [],
   "source": [
    "def bundle_adjustment_sparsity(n_cameras, n_points, camera_indices, point_indices):\n",
    "    m = camera_indices.size * 2\n",
    "    n = n_cameras * 9 + n_points * 3\n",
    "            \n",
    "    A = lil_matrix((m, n), dtype=int)\n",
    "\n",
    "    camera_indices = np.sort(camera_indices)\n",
    "    point_indices = np.sort(point_indices)\n",
    "    \n",
    "    i = np.arange(camera_indices.size)\n",
    "    for s in range(9):\n",
    "        A[2 * i, camera_indices * 9 + s] = 1\n",
    "        A[2 * i + 1, camera_indices * 9 + s] = 1\n",
    "\n",
    "    for s in range(3):\n",
    "        A[2 * i, n_cameras * 9 + point_indices * 3 + s] = 1\n",
    "        A[2 * i + 1, n_cameras * 9 + point_indices * 3 + s] = 1\n",
    "            \n",
    "    return A"
   ]
  },
  {
   "cell_type": "markdown",
   "metadata": {},
   "source": [
    "### THAT'S IT! Now we are ready to use inbuilt library functions!\n",
    "Now we are ready to run optimization. Let's visualize residuals evaluated with the initial parameters."
   ]
  },
  {
   "cell_type": "code",
   "execution_count": 40,
   "metadata": {},
   "outputs": [],
   "source": [
    "%matplotlib inline\n",
    "import matplotlib.pyplot as plt"
   ]
  },
  {
   "cell_type": "code",
   "execution_count": 41,
   "metadata": {},
   "outputs": [],
   "source": [
    "x0 = np.hstack((camera_params.ravel(), points_3d.ravel()))"
   ]
  },
  {
   "cell_type": "code",
   "execution_count": 42,
   "metadata": {},
   "outputs": [],
   "source": [
    "f0 = fun(x0, n_cameras, n_points, camera_indices, point_indices, points_2d)"
   ]
  },
  {
   "cell_type": "code",
   "execution_count": 43,
   "metadata": {},
   "outputs": [
    {
     "data": {
      "text/plain": [
       "[<matplotlib.lines.Line2D at 0x7f23fafa9e20>]"
      ]
     },
     "execution_count": 43,
     "metadata": {},
     "output_type": "execute_result"
    },
    {
     "data": {
      "image/png": "[encoded data removed]",
      "text/plain": [
       "<Figure size 432x288 with 1 Axes>"
      ]
     },
     "metadata": {
      "needs_background": "light"
     },
     "output_type": "display_data"
    }
   ],
   "source": [
    "plt.plot(f0)"
   ]
  },
  {
   "cell_type": "code",
   "execution_count": 44,
   "metadata": {},
   "outputs": [
    {
     "name": "stdout",
     "output_type": "stream",
     "text": [
      "(1125952, 333720) 89 110973\n"
     ]
    }
   ],
   "source": [
    "A = bundle_adjustment_sparsity(n_cameras, n_points, camera_indices, point_indices)\n",
    "print(A.shape, n_cameras, n_points)"
   ]
  },
  {
   "cell_type": "markdown",
   "metadata": {},
   "source": [
    "### Optimization\n",
    "\n",
    "Scipy has existing functions for optimization that we can make use of. Write a sentence about the method that is used for optimization"
   ]
  },
  {
   "cell_type": "code",
   "execution_count": 45,
   "metadata": {},
   "outputs": [],
   "source": [
    "import time\n",
    "from scipy.optimize import least_squares"
   ]
  },
  {
   "cell_type": "code",
   "execution_count": 46,
   "metadata": {
    "scrolled": true
   },
   "outputs": [
    {
     "name": "stdout",
     "output_type": "stream",
     "text": [
      "   Iteration     Total nfev        Cost      Cost reduction    Step norm     Optimality   \n",
      "       0              1         1.8752e+07                                    3.32e+07    \n",
      "       1              3         1.4669e+07      4.08e+06       2.18e+01       1.18e+08    \n",
      "       2              5         1.4449e+07      2.20e+05       5.90e+00       1.28e+08    \n",
      "       3              6         1.4446e+07      3.31e+03       1.39e+00       1.31e+08    \n",
      "       4             12         1.4446e+07      0.00e+00       0.00e+00       1.31e+08    \n",
      "`xtol` termination condition is satisfied.\n",
      "Function evaluations 12, initial cost 1.8752e+07, final cost 1.4446e+07, first-order optimality 1.31e+08.\n"
     ]
    }
   ],
   "source": [
    "t0 = time.time()\n",
    "# So far: method='lm'\n",
    "res = least_squares(fun, x0, jac_sparsity=A, verbose=2, x_scale='jac', ftol=1e-4, method='trf',\n",
    "                    args=(n_cameras, n_points, camera_indices, point_indices, points_2d))\n",
    "t1 = time.time()"
   ]
  },
  {
   "cell_type": "code",
   "execution_count": 47,
   "metadata": {},
   "outputs": [],
   "source": [
    "params = res.x\n",
    "\n",
    "new_camera_params = params[:n_cameras * 9].reshape((n_cameras, 9))\n",
    "new_points_3d = params[n_cameras * 9:].reshape((n_points, 3))"
   ]
  },
  {
   "cell_type": "markdown",
   "metadata": {},
   "source": [
    "### Plot Optimised Points"
   ]
  },
  {
   "cell_type": "code",
   "execution_count": 48,
   "metadata": {},
   "outputs": [],
   "source": [
    "pcd = o3d.geometry.PointCloud()\n",
    "pcd.points = o3d.utility.Vector3dVector(new_points_3d)\n",
    "o3d.visualization.draw_geometries([pcd])"
   ]
  },
  {
   "cell_type": "markdown",
   "metadata": {},
   "source": [
    "![pcd_2.png](./pcd_2.png)\n",
    "Setting `scaling='jac'` was done to automatically scale the variables and equalize their influence on the cost function (clearly the camera parameters and coordinates of the points are very different entities). This option turned out to be crucial for successfull bundle adjustment."
   ]
  },
  {
   "cell_type": "code",
   "execution_count": 49,
   "metadata": {},
   "outputs": [
    {
     "name": "stdout",
     "output_type": "stream",
     "text": [
      "Optimization took 35 seconds\n"
     ]
    }
   ],
   "source": [
    "print(\"Optimization took {0:.0f} seconds\".format(t1 - t0))"
   ]
  },
  {
   "cell_type": "markdown",
   "metadata": {},
   "source": [
    "Now let's plot residuals at the found solution:"
   ]
  },
  {
   "cell_type": "code",
   "execution_count": 50,
   "metadata": {},
   "outputs": [
    {
     "data": {
      "text/plain": [
       "[<matplotlib.lines.Line2D at 0x7f23fd485070>]"
      ]
     },
     "execution_count": 50,
     "metadata": {},
     "output_type": "execute_result"
    },
    {
     "data": {
      "image/png": "[encoded data removed]",
      "text/plain": [
       "<Figure size 432x288 with 1 Axes>"
      ]
     },
     "metadata": {
      "needs_background": "light"
     },
     "output_type": "display_data"
    }
   ],
   "source": [
    "plt.plot(res.fun)"
   ]
  },
  {
   "cell_type": "markdown",
   "metadata": {},
   "source": [
    "We see much better picture of residuals now, with the mean being very close to zero. There are some spikes left. It can be explained by outliers in the data, or, possibly, the algorithm found a local minimum (very good one though) or didn't converged enough. Note that the algorithm worked with Jacobian finite difference aproximate, which can potentially block the progress near the minimum because of insufficient accuracy (but again, computing exact Jacobian for this problem is quite difficult)."
   ]
  },
  {
   "cell_type": "markdown",
   "metadata": {},
   "source": [
    "### Project 2- Part B: Submission details -\n",
    "You are supposed to gain understanding by playing around with the code above and submit your answers to questions asked below. You shouldn't submit this whole notebook, just copy the following cells (starting next cell up until the end of this notebook) and paste it at the end of your Project 2 notebook (already shared on GitHub classrooms, [link](https://github.com/AryanSakaria/Project_2/blob/main/Project_2.ipynb))."
   ]
  },
  {
   "cell_type": "markdown",
   "metadata": {},
   "source": [
    "# Theory\n",
    "\n",
    "## 1. SfM pipeline (`6 mark`)\n",
    "\n",
    "To get the context of below questions, take a look at the code above: The same questions have been asked at different places above as comments in the code.\n",
    "\n",
    "1. `0.5 mark` **Basics** - How do we know this (`camera_ind`) information in practical setting? In other words, how do we know observations in `points_2d` belong to which camera. Explain. \n",
    "    - Ans-1 - Basics:\n",
    "        When a camera takes a picture, it often stores the timestamp of the image. based on these timestamps, we can assign `camera_ind` to each of the images by iteratinfg over them. \n",
    "        The backend structure of the motion pipeline contains Bundle adjustment. The working of the frontend part can be demonstrated through the following steps -\n",
    "        - From various unknown locations, multiple images of the same object are captured with (usually) the same camera.\n",
    "        - SIFT / ORB is applied on the first 2 consecutive images to obtain common feature points in these images. \n",
    "        - Essential matrix and Fundamental matrix are obtained using 8 point algorithm. These matrices are then decomposed into rotation matrix(R) and translation matrix(T) between the 2 images.\n",
    "        - Using the same scale during the whole process, we triangulate from image points to 3D world.\n",
    "        - The information about the source of the points being back-projected is stored in camera_ind. And this information is known to us.\n",
    "        - PnP is applied over the correspondences between the third image and the reconstructed world to obtain the rotation matrix and translation matrix of the third image on the same scale.\n",
    "        - This process is repeated for all the images.\n",
    "        Thus, the correspondence between the points_2d and the camera to which these points belong are known since these points are chosen after applying SIFT/ORB or some other feature detection algorithm on the image from that camera.\n",
    "\n",
    "    \n",
    "2. `0.5 mark` **Basics** - How do we know this (`point_ind`) information in practical setting?  In other words, how do we know observations in `points_2d` belong to which 3D point. Explain.\n",
    "    - Ans-2 - Basics: \n",
    "        - In the frontend pipeline, once the F, E, R and t matrices are estimated, the initial estimates of the 3D points are generated by triangulating and back-projecting 2D points from the images. \n",
    "        - So, because of the nature of the method used, we can easily find out the correspondence between the 3D points and the 2D points from which they were generated. For representing the correspondence, we can use indices for each of the 2D points and label the corresponding 3D points with the same index.\n",
    "\n",
    "3. `0.5 mark` **Transformations** - `rotate()` function: Why do we use the rodriquez formula? How is this representation different from the standard 3x3 Rotation matrix, why do we use this instead?\n",
    "    - Ans-3 - Transformations: \n",
    "    If v is a vector in ℝ3 and k is a unit vector describing an axis of rotation about which v rotates by an angle θ according to the right hand rule, the Rodrigues formula for the rotated vector $v_{rot}$ is\n",
    "$$\n",
    " {\\mathbf {v} _{\\mathrm {rot} }=\\mathbf {v} \\cos \\theta +(\\mathbf {k} \\times \\mathbf {v} )\\sin \\theta +\\mathbf {k} ~(\\mathbf {k} \\cdot \\mathbf {v} )(1-\\cos \\theta )}\n",
    "$$\n",
    "Using axis angle for rotation instead of rotation matrix, number of parameters that we need to estimate get reduced. The total number of parameters is just 3. By extension, this formula can be used to transform all three basis vectors to compute a rotation matrix in SO(3), the group of all rotation matrices, from an axis–angle representation.\n",
    "\n",
    "    \n",
    "4. `0.5 mark` **Transformations** - `project()` function: In the `project()` function, would it make any difference if I do translate first, then rotate? Why/why not?\n",
    "    - Ans-4 - Transformations: \n",
    "        - `M` denotes the number of images and `N` denotes the number of points in each image. So the total number of points is `2MN` but for this case, the number of points are not constant for every image. Therefore this is not a function of `MN`.\n",
    "        - The estimated camera intrinsics and extrinsics are used in the project function for projecting 3D points into 2D image planes. \n",
    "        - It is necessary to transform 3D points in an arbitrary world frame to the camera’s local frame since every camera is at a different position.\n",
    "        - The point is first rotated from world frame to local camera frame to correct for rotation and then origin offset is corrected within this camera frame.\n",
    "        $$\n",
    "            \\mathbf{{}^{c}p} = R^{c}_{w}\\mathbf{{}^{w}p} + \\mathbf{{}^{c}t^{c}_{w}}\n",
    "         $$\n",
    "            The left superscript is the frame that contains the representation of the vector.\n",
    "\n",
    "        - The vector representations lying in different planes can not be directly added. Thus, point $\\mathbf{{}^{w}p}$ must be first rotated into the camera from before adding to $\\mathbf{{}^{c}t^{c}_{w}}$  since $\\mathbf{{}^{c}t^{c}_{w}}$ itself lies in the camera frame. So rotation can not be applied after translation.\n",
    "        - The equation of transformation if the translation was defined in the world frame -\n",
    "$$\n",
    "    \\mathbf{{}^{c}p} = R^{c}_{w}\\left(\\mathbf{{}^{w}p} + \\mathbf{{}^{w}t^{c}_{w}}\\right) = R^{c}_{w}\\mathbf{{}^{w}p} + R^{c}_{w}\\mathbf{{}^{w}t^{c}_{w}}\n",
    " $$\n",
    "\n",
    "        - The equation is difficult to optimize since it couples together the rotation and translation matrix. Otherwise, the product of R and t needs to be treated as a separate parameter. And thus we need to go back to the previous formulation as $R^{c}_{w}\\mathbf{{}^{w}t^{c}_{w}}$ is simply $\\mathbf{{}^{c}t^{c}_{w}}$)\n",
    "        \n",
    "5. `0.5 mark` **Jacobian** - `bundle_adjustment_sparsity()` function: m above is not \"M*N\" (*2) unlike our lecture notes. Why is that so?\n",
    "    - Ans-5 - Jacobian:\n",
    "        - The number of rows in a Jacobian matrix equals the number of residuals since each row corresponds to a residual. \n",
    "        - This is equal to the number of 2D points since the loss function computes the difference between the reprojected 2D points computed based on the estimated camera parameters and estimated 3D points and observed 2D points obtained from the images. \n",
    "        - As every 2D point contributes to an x and a y coordinate, the number of residuals is twice the number of 2D points. There are camera_indices.size number of 2D points as every element in camera_indices relates a 2D point to an image and so we have twice as many residuals in the Jacobian.\n",
    "\n",
    "6. `2 mark` **Jacobian & Parameters** - `bundle_adjustment_sparsity()` function: \n",
    "    1.  Why are we doing `n_cameras * 9` here instead of `n_cameras * 12`? Recollect: Every individual motion Jacobian was (1*)12 in our lecture notes. \n",
    "        - Ans 6.1 - Jacobian & Parameters: \n",
    "        - The camera parameters and 3D world point positions are optimised using Bundle adjustment.\n",
    "        - Thus the number of parameters that we optimise over is - *Number of camera parameters* $\\times$ *Number of cameras* $+$ *Number of coordinates* $\\times$ *Number of world points*\n",
    "         - In lecture notes we considered a 3 X 4 matrix that represents the camera projection matrix, then $P = K \\left[R | t \\right]$ matrix gives us 12 parameters for each camera. Since a 3 X 3 matrix was used to represent camera intrinsics and rotation matrices were also represented as 3 X 3 matrices.\n",
    "        - But here the number of camera parameters we have is \n",
    "            - 3 parameters representing axis-angle rotation\n",
    "            - 3 parameters representing a translation\n",
    "            - Focal length\n",
    "            - 2 distortion parameters\n",
    "            Thus, there is a total of 9 parameters.\n",
    "        - When we go from rotation matrices to axis-angles and camera intrinsic matrix to individual intrinsic properties, the number of parameters reduces from 12 to 9. \n",
    "\n",
    "    2. Ignoring the scale parameters, what was the number of unknown parameters in our lecture notes in terms of `n_cameras` and `n_points`? What is it here in the code? Is it different? If so, what is and why? [Link of notes](https://www.notion.so/Stereo-Structure-from-Motion-9fdd81e4194f4803ac9ba7552df56470).\n",
    "        - Ans 6.2 - Jacobian & Parameters:        \n",
    "            - Bundle adjustment optimizes the estimates of 3D world points (generated by structure from Motion frontend) and camera positions.\n",
    "            - Since we know the camera intrinsics, it can be concluded that the parameters we aim to optimise are 6 degrees of freedom per camera, that is 3 rotations and 3 translations and 3 degrees of freedom for every world point, that is its ($x$, $y$ and $z$) coordinates.\n",
    "            - Thus the total number of parameters to be estimated is -6 * `n_cameras` + 3 * `n_points`\n",
    "            - But the optimisation will have to be performed in SO(3) manifold instead of Euclidean space. For avoiding this situation, we can optimise the projection matrix as it is, essentially optimises the extrinsic and intrinsic parameters $P = K \\left[R | t \\right]$\n",
    "            - So the number of unknown parameters is  12 * `n_cameras` + 3 * `n_points`\n",
    "            - In this case, the intrinsic and extrinsic parameters are optimised separately. This is possible as rotation is represented using axis-angles.\n",
    "            - The number of parameters is 3 for translation, 3 for rotation (axis-angles) and 3 intrinsic parameters (for this case, otherwise there may be 5 intrinsic parameters). This gives us 9 parameters for each camera and a total of  9 * `n_cameras` + 3 * `n_points` parameters.\n",
    "            \n",
    "7. `6 mark` **Sparsity, Residual Vector & Jacobian** - `bundle_adjustment_sparsity()` function: Explain what you understand from above 6 lines of code by coding a simple toy example yourself to illustrate how it is different from what you've learnt in class. ([Coding toy example + elaborating in words]- both are compulsory.) For the toy example, you can take something like 3 points all seen from 3 cameras. (You don't actually have to code much, just need to call the existing function) Write that toy example after this cell\n",
    "    - Ans 7 - Sparsity, Residual Vector & Jacobian: \n",
    "**Structure of the Jacobian matrix** -\n",
    "- Each row corresponds to a residual.\n",
    "- Each column corresponds to a parameter to be optimised. The total number of columns is  9 * `n_cameras` + 3 * Number of world point parameters (since that is the number of parameters to be optimised)\n",
    "- There are 2 equations corresponding to each 2D point, one for its x coordinate and one for the y coordinate. Thus the number of residuals is twice the number of observations and so is the number of rows.\n",
    "- In the lecture notes, it was considered that N world points are visible in all M images, then we have 2MN rows. \n",
    "- The number of observations is `camera_ind.size` and we have twice as many rows.\n",
    "- The residuals may not appear in a particular order unlike the residuals considered in the lecture notes which were initially ordered according to points and then according to images. Random ordering works as long as a single ordering is maintained consistently.\n",
    "\n",
    "**The function of the code snippet** -\n",
    "- The elements of the Jacobian which are not always zero are marked using the code snippet. Thus `SciPy` solver can take advantage of the Jacobian matrix’s sparsity. \n",
    "- All the columns corresponding to the parameters of a camera are set to 1 using `Numpy`’s array indexing. \n",
    "- All the remaining elements are zero since those represent the cameras and world points not included in the observation. These zero elements contribute to the sparse structure of the matrix.\n",
    "- In the below code, in the theoretical setting, we define the structure of the Jacobian. However, in the practical setting, based on the dependant variables which are to be optimized (like, the 3D points and the camera parameters) we decide whether to set the value at an index to 1. Thus, the matrix will not be as structured as in the previous case. Also, the run time of the code will decrease due to the sparsity of the Jacobian matrix."
   ]
  },
  {
   "cell_type": "code",
   "execution_count": 4,
   "metadata": {},
   "outputs": [
    {
     "name": "stdout",
     "output_type": "stream",
     "text": [
      "The theoretical sparse matrix\n",
      "[[1. 0. 0. 0. 0. 0. 0. 0. 0. 0. 0. 0. 0. 0. 0. 0.]\n",
      " [1. 0. 0. 0. 0. 0. 0. 0. 0. 0. 0. 0. 0. 0. 0. 0.]\n",
      " [1. 0. 0. 0. 0. 0. 0. 0. 0. 0. 0. 0. 0. 0. 0. 0.]\n",
      " [1. 0. 0. 0. 0. 0. 0. 0. 0. 0. 0. 0. 0. 0. 0. 0.]\n",
      " [1. 0. 0. 0. 0. 0. 0. 0. 0. 0. 0. 0. 0. 0. 0. 0.]\n",
      " [1. 0. 0. 0. 0. 0. 0. 0. 0. 0. 0. 0. 0. 0. 0. 0.]\n",
      " [1. 0. 0. 0. 0. 0. 0. 0. 0. 0. 0. 0. 0. 0. 0. 0.]\n",
      " [1. 0. 0. 0. 0. 0. 0. 0. 0. 0. 0. 0. 0. 0. 0. 0.]\n",
      " [1. 0. 0. 0. 0. 0. 0. 0. 0. 0. 0. 0. 0. 0. 0. 0.]\n",
      " [1. 0. 0. 0. 0. 0. 0. 0. 0. 0. 0. 0. 0. 0. 0. 0.]\n",
      " [0. 1. 0. 0. 0. 0. 0. 0. 0. 0. 0. 0. 0. 0. 0. 0.]\n",
      " [0. 1. 0. 0. 0. 0. 0. 0. 0. 0. 0. 0. 0. 0. 0. 0.]\n",
      " [0. 1. 0. 0. 0. 0. 0. 0. 0. 0. 0. 0. 0. 0. 0. 0.]\n",
      " [0. 1. 0. 0. 0. 0. 0. 0. 0. 0. 0. 0. 0. 0. 0. 0.]\n",
      " [0. 1. 0. 0. 0. 0. 0. 0. 0. 0. 0. 0. 0. 0. 0. 0.]\n",
      " [0. 1. 0. 0. 0. 0. 0. 0. 0. 0. 0. 0. 0. 0. 0. 0.]\n",
      " [0. 1. 0. 0. 0. 0. 0. 0. 0. 0. 0. 0. 0. 0. 0. 0.]\n",
      " [0. 1. 0. 0. 0. 0. 0. 0. 0. 0. 0. 0. 0. 0. 0. 0.]\n",
      " [0. 1. 0. 0. 0. 0. 0. 0. 0. 0. 0. 0. 0. 0. 0. 0.]\n",
      " [0. 1. 0. 0. 0. 0. 0. 0. 0. 0. 0. 0. 0. 0. 0. 0.]]\n",
      "The practical sparse jacobian\n",
      "[[1. 0. 0. 0. 0. 0. 0. 0. 0. 0. 0. 0. 0. 0. 0. 0.]\n",
      " [1. 0. 0. 0. 0. 0. 0. 0. 0. 0. 0. 0. 0. 0. 0. 0.]\n",
      " [0. 0. 1. 0. 0. 0. 0. 0. 0. 0. 0. 0. 0. 0. 0. 0.]\n",
      " [0. 0. 1. 0. 0. 0. 0. 0. 0. 0. 0. 0. 0. 0. 0. 0.]\n",
      " [0. 0. 0. 0. 0. 1. 0. 0. 0. 0. 0. 0. 0. 0. 0. 0.]\n",
      " [0. 0. 0. 0. 0. 1. 0. 0. 0. 0. 0. 0. 0. 0. 0. 0.]\n",
      " [0. 0. 0. 0. 0. 0. 1. 0. 0. 0. 0. 0. 0. 0. 0. 0.]\n",
      " [0. 0. 0. 0. 0. 0. 1. 0. 0. 0. 0. 0. 0. 0. 0. 0.]\n",
      " [0. 0. 1. 0. 0. 0. 0. 0. 0. 0. 0. 0. 0. 0. 0. 0.]\n",
      " [0. 0. 1. 0. 0. 0. 0. 0. 0. 0. 0. 0. 0. 0. 0. 0.]\n",
      " [0. 1. 0. 0. 0. 0. 0. 0. 0. 0. 0. 0. 0. 0. 0. 0.]\n",
      " [0. 1. 0. 0. 0. 0. 0. 0. 0. 0. 0. 0. 0. 0. 0. 0.]\n",
      " [0. 0. 0. 0. 0. 0. 0. 0. 0. 1. 0. 0. 0. 0. 0. 0.]\n",
      " [0. 0. 0. 0. 0. 0. 0. 0. 0. 1. 0. 0. 0. 0. 0. 0.]\n",
      " [0. 0. 0. 0. 0. 0. 0. 0. 0. 0. 0. 0. 0. 0. 1. 0.]\n",
      " [0. 0. 0. 0. 0. 0. 0. 0. 0. 0. 0. 0. 0. 0. 1. 0.]\n",
      " [0. 0. 0. 0. 0. 0. 0. 1. 0. 0. 0. 0. 0. 0. 0. 0.]\n",
      " [0. 0. 0. 0. 0. 0. 0. 1. 0. 0. 0. 0. 0. 0. 0. 0.]\n",
      " [0. 0. 0. 0. 0. 0. 0. 0. 0. 0. 0. 1. 0. 0. 0. 0.]\n",
      " [0. 0. 0. 0. 0. 0. 0. 0. 0. 0. 0. 1. 0. 0. 0. 0.]]\n"
     ]
    }
   ],
   "source": [
    "camera_ind_exp = 10\n",
    "m = camera_ind_exp * 2\n",
    "B = np.zeros([m,16])\n",
    "B_prac = np.zeros([m,16])\n",
    "i = np.arange(camera_ind_exp)\n",
    "\n",
    "# theoretical setting\n",
    "B[2*i, np.array([0,0,0,0,0,  1,1,1,1,1])]=1\n",
    "B[2*i + 1, np.array([0,0,0,0,0,  1,1,1,1,1])]=1\n",
    "# practical setting\n",
    "B_prac[2*i, np.array([0,2,5,6,2,  1,9,14,7,11])]=1\n",
    "B_prac[2*i + 1, np.array([0,2,5,6,2,  1,9,14,7,11])]=1\n",
    "\n",
    "print(\"The theoretical sparse matrix\")\n",
    "print(B)\n",
    "print(\"The practical sparse jacobian\")\n",
    "print(B_prac)"
   ]
  },
  {
   "cell_type": "markdown",
   "metadata": {},
   "source": [
    "## 2. Initializing R,t and 3D points for SfM given 2 images (`4 mark`)\n",
    "\n",
    "Using OpenCV functions, mention how you would initialize R,t (poses) and 3D points for SfM given 2 images and K matrix. You don't need to implement it, just mention function names with input/output arguments clearly and briefly explain what they do (You don't need to give detailed answers).\n",
    "\n",
    "1. First, we do feature matching using the following function calls:\n",
    "   ```python\n",
    "   sift = cv2.SIFT_create() # optional parameter nfeatures (number of features required)\n",
    "   keypoints1, descriptors1 = sift.detectAndCompute(img1, None) # None parameter is to specify no additional parameters\n",
    "   keypoints2, descriptors2 = sift.detectAndCompute(img2, None)\n",
    "   ```\n",
    "   `detectAndCompute()` returns the keypoints and their corresponding descriptors for the two input images. SURF or ORB features can also be used instead of SIFT. The corresponding features between the two images is then matched using K-Nearest-Neighbour based matching.\n",
    "   ```python\n",
    "   matcher = cv2.FlannBasedMatcher({'algorithm'=1, 'trees'=5}, {'checks'=32}) # algorithm 1 refers to KD-Tree\n",
    "   # initializing the kNN-based matcher with descriptors of the two images and k value\n",
    "   matches = matcher.knnMatch(descriptors1, descriptors2, k=2) # match the descriptors\n",
    "   ```\n",
    "   Points in the first image (`pts1`) and points in the second image (`pts2`)  are obtained by separating the matching points from `matches` as follows:\n",
    "   ```python\n",
    "   pts1 = np.array([keypoints1[match[0].queryIdx].pt for match in matches])\n",
    "   pts2 = np.array([keypoints2[match[0].trainIdx].pt for match in matches])\n",
    "   ```\n",
    "   To improve the quality of the matches, Lowe's Test can be used. For this, each keypoint of the first image is matched with a number of keypoints from the second image. The 2 best matches for each keypoint are kept (best matches are the ones with the smallest distance measurement). Lowe's test checks that the two distances are sufficiently different. If they are not, then the keypoint is discarded.\n",
    "<br/>\n",
    "2. We can find the essential matrix using `cv2.findEssentialMatrix`. The parameters to this function are the lists of matching points (`pts1` and `pts2`) and the camera intrinsics, calibration matrix `K`. The `method` parameter can be set to `cv2.RANSAC`, and RANSAC's threshold and probability values can be manipulated accordingly.  \n",
    "<br/>\n",
    "3. Now we can decompose the essential matrix into R,t as follows:\n",
    "\n",
    "    `Rt = cv2.recoverPose(E, pts1, pts2, K)`: This takes the Essential matrix E, the corresponding points in 2 images and the camera intrinsics matrix K as input parameters and returns R and t. `Rt[1]` gives us R and `Rt[2]` gives us t.  \n",
    "<br/>\n",
    "4. Using the camera extrinsics, R and t, we can find the 3D points as follows:  \n",
    "   ```python\n",
    "   P1 = K @ np.hstack((np.eye(3), np.zeros((3, 1)))) # first camera's extrinsic matrix is [I | 0]\n",
    "   P2 = K @ np.hstack((R, t)) # second camera's extrinsic matrix is [R | t]\n",
    "   ptsW = cv2.triangulatePoints(P1, P2, pts1, pts2) # triangulate back the points\n",
    "   ptsW /= ptsW[3] # homogenize\n",
    "   ptsW[:3] # world points\n",
    "   ```\n",
    "   The above calculation was done considering the first camera's frame. Therefore the obtained points are in 1st camera's frame."
   ]
  },
  {
   "cell_type": "code",
   "execution_count": null,
   "metadata": {},
   "outputs": [],
   "source": []
  }
 ],
 "metadata": {
  "kernelspec": {
   "display_name": "Python 3 (ipykernel)",
   "language": "python",
   "name": "python3"
  },
  "language_info": {
   "codemirror_mode": {
    "name": "ipython",
    "version": 3
   },
   "file_extension": ".py",
   "mimetype": "text/x-python",
   "name": "python",
   "nbconvert_exporter": "python",
   "pygments_lexer": "ipython3",
   "version": "3.8.11"
  }
 },
 "nbformat": 4,
 "nbformat_minor": 1
}
