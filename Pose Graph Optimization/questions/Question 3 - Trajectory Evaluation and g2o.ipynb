{
 "cells": [
  {
   "cell_type": "markdown",
   "id": "bab71656",
   "metadata": {},
   "source": [
    "# Question 3: Trajectory Evaluation and g2o"
   ]
  },
  {
   "cell_type": "markdown",
   "id": "310deb72",
   "metadata": {},
   "source": [
    "_Refer to the example notebooks for installation instructions_"
   ]
  },
  {
   "cell_type": "markdown",
   "id": "2b3ac7a1",
   "metadata": {},
   "source": [
    "# Evo"
   ]
  },
  {
   "cell_type": "markdown",
   "id": "3f42079d",
   "metadata": {},
   "source": [
    "So you've implemented 2D SLAM, great! Now, what? We need a measure of how good the trajectory is. The error/loss used earlier doesn't tell us much about how the trajectory differs from the ground truth. Here, we try to do just this - compute error metrics. Rather than computing these from scratch, we will just Evo - https://github.com/MichaelGrupp/evo/."
   ]
  },
  {
   "cell_type": "markdown",
   "id": "95363b0a",
   "metadata": {},
   "source": [
    "Look at the absolute pose error (APE) and relative pose error (RPE). What do they capture and how are they calculated (descriptive answer)? How do these metrics differ in methodology? Can we determine if the error is more along the x/y axis?\n",
    "\n",
    "Answer the above questions and report errors for the obtained trajectory."
   ]
  },
  {
   "cell_type": "markdown",
   "id": "c43506c1",
   "metadata": {},
   "source": [
    "## Write up with plots/images\n",
    "**APE:** The absolute pose error is a metric for investigating the global consistency of a SLAM trajectory. APE is based on the absolute relative pose between two poses $P_{ref,i}, P_{est,i} \\in \\mathrm{SE}(3)$ at timestamp $i$:\n",
    "\\begin{equation*} E_i = P_{est,i} \\ominus P_{ref,i} = P_{ref,i}^{-1} P_{est,i} \\in \\mathrm{SE}(3) \\end{equation*}\n",
    "where $\\ominus$ is the inverse compositional operator, which takes two poses and gives the relative pose.\n",
    "Different pose relations can be used to calculate APE like the translational part, rotation angle, rotational part or the full relative pose of $E_i$\n",
    "\n",
    "On comparing APE of the ground truth poses kitti file with the poses that we obtained using 2D SLAM, we saw the following results:\n",
    "```bash\n",
    "--------------------------------------------------------------------------------\n",
    "APE w.r.t. translation part (m)\n",
    "(not aligned)\n",
    "\n",
    "       max\t6.761800\n",
    "      mean\t2.053709\n",
    "    median\t1.861706\n",
    "       min\t0.001024\n",
    "      rmse\t2.783288\n",
    "       sse\t929.602719\n",
    "       std\t1.878555\n",
    "\n",
    "--------------------------------------------------------------------------------\n",
    "```\n",
    "\n",
    "![APE](../q3_imgs/ape_raw_25_250_500.png)\n",
    "\n",
    "**RPE:** The relative pose error is a metric for investigating the local consistency of a SLAM trajectory. RPE compares the relative poses along the estimated and the reference trajectory. This is based on the delta pose difference: \n",
    "\\begin{equation*} E_{i,j} = \\delta_{est_{i,j}} \\ominus \\delta_{ref_{i,j}} = (P_{ref,i}^{-1}P_{ref,j})^{-1} (P_{est,i}^{-1}P_{est,j}) \\in \\mathrm{SE}(3) \\end{equation*}\n",
    "where $\\ominus$ is the inverse compositional operator, which takes two poses and gives the relative pose.\n",
    "\n",
    "\n",
    "On comparing RPE of the ground truth poses kitti file with the poses that we obtained using 2D SLAM, we saw the following results:\n",
    "```bash\n",
    "--------------------------------------------------------------------------------\n",
    "RPE w.r.t. translation part (m)\n",
    "for delta = 1 (frames) using consecutive pairs\n",
    "(not aligned)\n",
    "\n",
    "       max\t0.296480\n",
    "      mean\t0.117295\n",
    "    median\t0.112402\n",
    "       min\t0.010395\n",
    "      rmse\t0.132775\n",
    "       sse\t2.097860\n",
    "       std\t0.062217\n",
    "\n",
    "--------------------------------------------------------------------------------\n",
    "```\n",
    "![RPE](../q3_imgs/rpe_raw_25_250_500.png)\n",
    "\n",
    "**Traj:**\n",
    "We've used `evo_traj` to compare the ground truth trajectory with the optimised trajectory that we obtained using 2D SLAM. The info_values for 2D SLAM algo were [25,250,500]\n",
    "```bash\n",
    "--------------------------------------------------------------------------------\n",
    "name:\tgt\n",
    "infos:\n",
    "\tnr. of poses\t120\n",
    "\tpath length (m)\t52.97651922876868\n",
    "\tpos_end (m)\t[-2.8000011 -4.5000024  0.       ]\n",
    "\tpos_start (m)\t[-8.  5.  0.]\n",
    "--------------------------------------------------------------------------------\n",
    "name:\topt25_250_500\n",
    "infos:\n",
    "\tnr. of poses\t120\n",
    "\tpath length (m)\t53.75047013921479\n",
    "\tpos_end (m)\t[-2.8360977 -1.5989153  0.       ]\n",
    "\tpos_start (m)\t[-8.000984   4.9997168  0.       ]\n",
    "```\n",
    "Trajectories:\n",
    "![trajectories](../q3_imgs/traj_traj_25_250_500.png)\n",
    "XYZ:\n",
    "![XYZ](../q3_imgs/traj_xyz_25_250_500.png)\n",
    "Roll-Pitch-Yaw:\n",
    "![RPY](../q3_imgs/traj_rpy_25_250_500.png)"
   ]
  },
  {
   "cell_type": "markdown",
   "id": "4ec10de9",
   "metadata": {},
   "source": [
    "As we can see from the XYZ graph, X axis shows the more error."
   ]
  },
  {
   "cell_type": "markdown",
   "id": "c75de7be",
   "metadata": {},
   "source": [
    "# g2o"
   ]
  },
  {
   "cell_type": "markdown",
   "id": "61fd70b8",
   "metadata": {},
   "source": [
    "Install g2o as mentioned in `examples/g2o.ipynb` and optimise `edges.txt`, the file you used earlier. Also use `g2o_viewer` and optimize `intel` (a trajectory in the Intel research lab) and `sphere`. They should look something like:\n",
    "\n",
    "\n",
    "<table><tr>\n",
    "<td> <img src=\"../misc/intel.jpg\" alt=\"Drawing\" style=\"width: 250px;\"/> </td>\n",
    "<td> <img src=\"../misc/sphere.jpg\" alt=\"Drawing\" style=\"width: 250px;\"/> </td>\n",
    "</tr></table>"
   ]
  },
  {
   "cell_type": "markdown",
   "id": "4bfa8ec6",
   "metadata": {},
   "source": [
    "Write briefly about your observations and try out few options in the GUI. What do they do, how do they perform?"
   ]
  },
  {
   "cell_type": "markdown",
   "id": "6a1f530b",
   "metadata": {},
   "source": [
    "## Your answer\n",
    "Using the g2o_viewer tool, we started out with:\n",
    "\n",
    "![noisy initial trajectory](../q3_imgs/initial_traj.png)\n",
    "\n",
    "Using LM algorithm on g2o_viewer, we finally obtained the following optimized trajectory which is very close to the ground truth:\n",
    "![optimized trajectory](../q3_imgs/opt_traj.png)\n",
    "\n",
    "Using the Guass Newton algorithm, we obtained similar results too.\n",
    "\n",
    "\n",
    "Next we used the tool to find the trajectory for intel dataset:\n",
    "![optimized trajectory](../q3_imgs/intel_lm_span.png)\n",
    "\n",
    "\n",
    "Then we found the trajectory for sphere.g2o:\n",
    "![optimized trajectory](../q3_imgs/sphere_lm_span.png)\n",
    "\n",
    "\n",
    "We also tried varying the available options:\n",
    "\n",
    "**Initial Guess:** \n",
    "For the given dataset, we compare the spanning tree and odometry initialization. The spanning-tree approach yields a guess close to the ground truth whereas odometry produces results with high errors which match with the ground truth to a certain extent. We’ve used spanning tree mostly when trying out the rest of the options.\n",
    "\n",
    "**Optimizer:**\n",
    "The variations of Gauss Newton and Levenberg Marquadt algorithms were found to produce similar kinds of results. So we have used gn_var_cholmod and lm_var_cholmod respectively for these two algorithms. For intel.g2o, we noticed that using GN algo, the graph converged within 10 iterations whereas LM took around 567 iterations. Also, the error for LM was higher than that for GN. We also noticed that using the 2d linear algorithm, we obtain very quick accurate results (in around 3 iterations) for the intel.g2o file, converging with errors similar to the GN algorithm. Such results are obtained because the optimizer is constructed for 2D pose-graph SLAM like the current one. 2d linear algorithm yields good performance on the intel.g2o.\n",
    "\n",
    "**Robust Kernel:**\n",
    "When results are obtained by applying the robust kernel option in g2o, the performance seems to be significantly improved as compared to the previously used approaches. A lower error value is obtained for some of the iterations. Among all the variations we tried out, the Huber kernel yielded the best results. Some of the other kernels resulted in low error values but differed from the ground truth. The Huber kernel required 147 iterations to converge ground truth, which is way less as compared to the results obtained without using kernel (459 iterations).\n"
   ]
  },
  {
   "cell_type": "code",
   "execution_count": null,
   "id": "49f6487d",
   "metadata": {},
   "outputs": [],
   "source": []
  }
 ],
 "metadata": {
  "kernelspec": {
   "display_name": "Python 3 (ipykernel)",
   "language": "python",
   "name": "python3"
  },
  "language_info": {
   "codemirror_mode": {
    "name": "ipython",
    "version": 3
   },
   "file_extension": ".py",
   "mimetype": "text/x-python",
   "name": "python",
   "nbconvert_exporter": "python",
   "pygments_lexer": "ipython3",
   "version": "3.8.11"
  }
 },
 "nbformat": 4,
 "nbformat_minor": 5
}
