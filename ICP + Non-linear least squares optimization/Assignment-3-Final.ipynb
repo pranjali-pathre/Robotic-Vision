{
 "cells": [
  {
   "cell_type": "markdown",
   "id": "5e98822d",
   "metadata": {},
   "source": [
    "# Assignment 3: ICP + Non-linear least squares optimization\n",
    "\n",
    "TEAM-NAME: Robo-knights\n",
    "\n",
    "YOUR-ID: 2019111007, 2019112002\n",
    "\n",
    "YOUR-NAME: Ahana Datta, Pranjali Pathre\n",
    "\n",
    "## Instructions\n",
    "\n",
    "* You are not allowed to use any external libraries (other than ones being imported below).\n",
    "* The deadline for this assignment is *15-09-21* at 11:55pm.\n",
    "* Plagiarism is *strictly prohibited*"
   ]
  },
  {
   "cell_type": "code",
   "execution_count": 1,
   "id": "6c17a042",
   "metadata": {},
   "outputs": [
    {
     "name": "stderr",
     "output_type": "stream",
     "text": [
      "INFO - 2021-10-16 23:41:23,084 - utils - NumExpr defaulting to 8 threads.\n"
     ]
    }
   ],
   "source": [
    "import math\n",
    "import numpy as np\n",
    "import matplotlib.pyplot as plt\n",
    "import open3d\n",
    "import copy\n",
    "import math"
   ]
  },
  {
   "cell_type": "markdown",
   "id": "9e06925e",
   "metadata": {},
   "source": [
    "# Non Linear Least Squares Optimization"
   ]
  },
  {
   "cell_type": "markdown",
   "id": "39592347",
   "metadata": {},
   "source": [
    "## 1.1 Gradient Descent\n",
    "Implement the gradient descent algorithm using numpy and what you have learned from class to solve for the parameters of a gaussian distribution.\n",
    "To understand the task in more detail and look at a worked through example, checkout the subsequent section. You have to implement the same using just numpy functions. You can refer to [Shubodh's notes](https://www.notion.so/saishubodh/From-linear-algebra-to-non-linear-weighted-least-squares-optimization-13cf17d318be4d45bb8577c4d3ea4a02) on the same to get a better grasp of the concept before implementing it.\n",
    "* Experiment with the number of iterations.\n",
    "* Experiment with the learning rate.\n",
    "* Experiment with the tolerance.\n",
    "\n",
    "Display your results using matplotlib by plotting graphs for \n",
    "* The cost function value vs the number of iterations\n",
    "* The Ground Truth data values and the predicted data values.\n",
    "\n",
    "Your plots are expected to contain information similar to the plot below:\n",
    "\n",
    "<!-- <figure> -->\n",
    "<img src='./helpers/sample_plt.png' alt=drawing width=500 height=600>\n",
    "\n",
    "<!-- <figcaption align='center'><b>A sample plot, you can use your own plotting template</b></figcaption>\n",
    "</figure> -->\n",
    "<!-- head over to [this page](https://saishubodh.notion.site/Non-Linear-Least-Squares-Solved-example-Computing-Jacobian-for-a-Gaussian-Gradient-Descent-7fd11ebfee034f8ca89cc78c8f1d24d9) -->"
   ]
  },
  {
   "cell_type": "markdown",
   "id": "44e563ab",
   "metadata": {},
   "source": [
    "## Worked out Example using Gradient Descent\n",
    "\n",
    "A Gaussian distribution parametrized by $a,m,s$ is given by:\n",
    "\n",
    "$$ y(x;a,m,s)=a \\exp \\left(\\frac{-(x-m)^{2}}{2 s^{2}}\\right) \\tag{1}$$\n",
    "\n",
    "### Jacobian of Gaussian\n",
    "\n",
    "$$\\mathbf{J}_y=\\left[\\frac{\\partial y}{\\partial a} \\quad \\frac{\\partial y}{\\partial m} \\quad \\frac{\\partial y}{\\partial s}\\right] \\\\\n",
    "= \\left[ \\exp \\left(\\frac{-(x-m)^{2}}{2 s^{2}}\\right); \\frac{a (x-m)}{s^2} \\exp\\left(\\frac{-(x-m)^{2}}{2 s^{2}}\\right);  \\frac{a (x-m)^2}{s^3}\\exp \\left(\\frac{-(x-m)^{2}}{2 s^{2}}\\right)\\right]$$\n",
    "\n",
    "## Problem at hand\n",
    "\n",
    "> Given a set of observations $y_{obs}$ and $x_{obs}$ we want to find the optimum parameters $a,m,s$ which best fit our observations given an initial estimate.\n",
    "\n",
    "Our observations would generally be erroneous and given to us, but for the sake of knowing how good our model is performing, let us generate the observations ourselves by assuming the actual \"actual\" parameter values as $a_{gt}=10; m_{gt} =0; s_{gt} =20$ ($gt$ stands for ground truth). We will try to estimate these values based on our observations and let us see how close we get to \"actual\" parameters. Note that in reality we obviously don't have these parameters as that is exactly what we want to estimate in the first place. So let us consider the following setup, we have:\n",
    "\n",
    "- Number of observations, $num\\_obs = 50$\n",
    "- Our 50 set of observations would be\n",
    "    - $x_{obs} = np.linspace(-25,25, num\\_obs)$\n",
    "    - $y_{obs} = y(x_{obs};a_{gt},m_{gt},s_{gt})$  from $(1)$\n",
    "\n",
    "Reference:\n",
    "\n",
    "→[linspace](https://numpy.org/doc/stable/reference/generated/numpy.linspace.html)\n",
    "\n",
    "- Say we are given initial estimate as:\n",
    "\n",
    "    $$a_0=10; \\quad m_0=13; \\quad s_0=19.12$$\n",
    "\n",
    "### Residual and error to be minimized\n",
    "\n",
    "Okay, now we have set of observations and an initial estimate of parameters. We would now want to minimize an error that would give us optimum parameters.\n",
    "\n",
    "The $residual$ would be given by\n",
    "\n",
    "$$ r(a,m,s) = \\left[ a \\exp \\left(\\frac{-(x_{obs}-m)^{2}}{2 s^{2}}\\right) - y_{obs}\\ \\right]$$\n",
    "\n",
    "where we'd want to minimize $\\|r\\|^2$. Note that $r$ is a non-linear function in $(a,m,s)$.\n",
    "\n",
    "Also, note that since $y$ (and $x$) are observations in the above equation, after simplification, we get $\\mathbf{J}_r = \\mathbf{J}_y$ [above](https://www.notion.so/c9e6f71b67a44bb8b366df2fccfc12d0) (since $y_{obs}$ is a constant).\n",
    "\n",
    "Let us apply Gradient Descent method for minimization here. From [Table I](https://www.notion.so/From-linear-algebra-to-non-linear-weighted-least-squares-optimization-13cf17d318be4d45bb8577c4d3ea4a02),  \n",
    "\n",
    "$$\\Delta \\mathbf{k} = - \\alpha \\mathbf{J_F} = -\\alpha \\mathbf{J}_r^{\\top} {r}(\\mathbf{k})$$\n",
    "\n",
    "Note that $\\mathbf{J_F}$ is the Jacobian of \"non-linear least squares\" function $\\mathbf{F}$ while $\\mathbf{J}_r$ is the Jacobian of the residual. \n",
    "\n",
    "where $\\mathbf{k}$ is $[a,m,s]^T$. \n",
    "\n",
    "- Some hyperparameters:\n",
    "    - Learning rate, $lr = 0.01$\n",
    "    - Maximum number of iterations, $num\\_iter=200$\n",
    "    - Tolerance, $tol = 1e-15$\n",
    "\n",
    "## Solution for 1 iteration\n",
    "\n",
    "To see how each step looks like, let us solve for 1 iteration and for simpler calculations, assume we have 3 observations, \n",
    "\n",
    "$$x_{obs}= \\left[ -25, 0, 25 \\right]^T, y_{obs} = \\left[  4.5783, 10, 4.5783 \\right]^T. $$\n",
    "\n",
    "With our initial estimate as $\\mathbf{k_0} = [a_0=10, \\quad m_0=13, \\quad s_0=19.12]^T$, the residual would be \n",
    "\n",
    "$$ r(a_0,m_0,s_0) = \\left[ a_0 \\exp \\left(\\frac{-(x_{obs}-m_0)^{2}}{2 s_0^{2}}\\right) - y_{obs}\\ \\right]$$\n",
    "\n",
    "Therefore, $r=[-3.19068466, -2.0637411 , 3.63398058]^T$.\n",
    "\n",
    "### Gradient Computation\n",
    "\n",
    "Gradient, $\\mathbf{J_F}$=\n",
    "\n",
    "$$\\mathbf{J_r}^{\\top} \\mathbf{r}(\\mathbf{k})$$\n",
    "\n",
    "We have calculated residual already [above](https://www.notion.so/c9e6f71b67a44bb8b366df2fccfc12d0), let us calculate the Jacobian $\\mathbf{J_r}$.\n",
    "\n",
    "$$\\mathbf{J}_r\n",
    "= \\left[ \\exp \\left(\\frac{-(x-m)^{2}}{2 s^{2}}\\right); \\frac{a (x-m)}{s^2} \\exp\\left(\\frac{-(x-m)^{2}}{2 s^{2}}\\right);  \\frac{a (x-m)^2}{s^3}\\exp \\left(\\frac{-(x-m)^{2}}{2 s^{2}}\\right)\\right]$$\n",
    "\n",
    "$$\\implies \\mathbf{J_r} = \\left[ \\begin{array}{rrr}0.1387649 & 0.79362589, & 0.82123142 \\\\-0.14424057 & -0.28221715  & 0.26956967 \\\\0.28667059 & 0.19188405, & 0.16918599\\end{array}\\right]$$\n",
    "\n",
    "So ,\n",
    "\n",
    "$$\\mathbf{J_F} = \\mathbf{J_r}^{\\top} \\mathbf{r}(\\mathbf{k})$$\n",
    "\n",
    "$$\\mathbf{r}(\\mathbf{k}) =  \\left[ \\begin{array}{r}-3.19068466 \\\\ -2.0637411 \\\\ 3.63398058 \\end{array} \\right]$$\n",
    "\n",
    "$$ \\begin{aligned} \\implies \\mathbf{J_F} = \\left[ \\begin{array}{r} 0.89667553 \\\\ -1.25248392 \\\\-2.56179392\\end{array} \\right] \\end{aligned}$$\n",
    "\n",
    "### Update step\n",
    "\n",
    "$$\n",
    "\\Delta \\mathbf{k} = - \\alpha \\mathbf{J_F} \\\\\n",
    "\\mathbf{k}^{t+1} = \\mathbf{k}^t + \\Delta \\mathbf{k}\n",
    "$$\n",
    "\n",
    "Here, $\\alpha$ our learning rate is 0.01.\n",
    "\n",
    "$$\n",
    "\\Delta \\mathbf{k} = - \\alpha\\times\\left[ \\begin{array}{r} \n",
    "0.89667553 \\\\ -1.25248392 \\\\-2.56179392\n",
    "\\end{array} \\right] = \\left[ \\begin{array}{r}\n",
    "-0.00896676 \\\\ 0.01252484 \\\\0.02561794\n",
    "\\end{array}\\right]\n",
    "$$\n",
    "\n",
    "$$\n",
    "\\mathbf{k}^{1} = \\mathbf{k}^{0} + \\Delta \\mathbf{k} \\\\ \\left[\\begin{array}{r} 10 \\\\ 13 \\\\ 19.12 \\end{array}\\right] + \\left[\\begin{array}{c} 9.99103324 \\\\ 13.01252484 \\\\ 19.14561794 \\end{array} \\right]\n",
    "$$\n",
    "\n",
    "With just one iteration with very few observations, we can see that we have gotten *slightly* more closer to our GT parameter  $a_{gt}=10; m_{gt} =0; s_{gt} =20$. Our initial estimate was $[a_0=10, \\quad m_0=13, \\quad s_0=19.12]$. However, the above might not be noticeable enough: Hence you need to code it for more iterations and convince yourself as follows:"
   ]
  },
  {
   "cell_type": "code",
   "execution_count": 2,
   "id": "d71e1249",
   "metadata": {},
   "outputs": [],
   "source": [
    "def gaussian(x, a, m, s):\n",
    "    return a * np.exp(-(x - m)**2/(2*s**2))\n",
    "\n",
    "def find_residue_gaussian(a, m, s, x, y):\n",
    "    residue = a * np.exp(-(x - m)**2/(2*s**2)) - y\n",
    "    return residue  \n",
    "\n",
    "def calculate_jacobian(a, m, s, x):\n",
    "    dy_da = np.exp(-(x - m)**2/(2*s**2))\n",
    "    dy_dm = (a*(x - m)/s**2)*np.exp(-(x - m)**2/(2*s**2))\n",
    "    dy_ds = (a*(x - m)**2/s**3)*np.exp(-(x - m)**2/(2*s**2))\n",
    "    return (np.array([dy_da, dy_dm, dy_ds]))\n",
    "\n",
    "def calculate_J_F(J, r):\n",
    "    return J@r\n",
    "\n",
    "def gradient_descent(a0, m0, s0, xobs, yobs, lr, num_iter, tol):\n",
    "    ini_vec = np.array([a0, m0, s0])\n",
    "    k = ini_vec\n",
    "    cost = np.zeros(num_iter)\n",
    "    stop_iter = num_iter \n",
    "    for i in range(num_iter):\n",
    "        a_curr = k[0]\n",
    "        m_curr = k[1]\n",
    "        s_curr = k[2]\n",
    "        \n",
    "#       Finding the residue/cost\n",
    "        r = find_residue_gaussian(a_curr, m_curr, s_curr, xobs, yobs)\n",
    "\n",
    "        cost[i] = np.linalg.norm(r)**2\n",
    "#         Calculating the jacobian        \n",
    "        J_r = calculate_jacobian(a_curr, m_curr, s_curr, xobs)\n",
    "\n",
    "        J_F = calculate_J_F(J_r, r)\n",
    "#         Performing the update\n",
    "        dk = -lr*J_F\n",
    "        \n",
    "        k = k + dk\n",
    "\n",
    "#         Break if the error for all the three goes below the tolerance value. \n",
    "        if((abs(dk[0])<2*tol) & (abs(dk[1])<2*tol) & (abs(dk[2])<2*tol)):\n",
    "            stop_iter = i + 1\n",
    "            break\n",
    "    return k[0], k[1], k[2], cost, stop_iter   \n",
    "\n",
    "def plot1(x, y, title, xlabel, ylabel):\n",
    "    font1 = {'family':'serif','color':'black','size':14}\n",
    "    font2 = {'family':'serif','color':'darkred','size':15}\n",
    "    plt.plot(x, y, label = \"Loss\")\n",
    "    plt.xlabel(xlabel, fontdict = font2)\n",
    "    plt.ylabel(ylabel, fontdict = font2)\n",
    "    plt.title(title, fontdict = font1)\n",
    "    plt.legend()\n",
    "    plt.show()\n",
    "    \n",
    "def plot2(x, y1, y2, title):\n",
    "    font1 = {'family':'serif','color':'black','size':14}\n",
    "    font2 = {'family':'serif','color':'darkred','size':15}\n",
    "    plt.plot(x, y1, label = \"Ground Truth\", marker='o')\n",
    "    plt.plot(x, y2, label = \"Predicted\", marker='o')\n",
    "    plt.title(title, fontdict = font1)\n",
    "    plt.legend()\n",
    "    plt.show()"
   ]
  },
  {
   "cell_type": "code",
   "execution_count": 3,
   "id": "ed3650fa",
   "metadata": {},
   "outputs": [
    {
     "name": "stdout",
     "output_type": "stream",
     "text": [
      "Pred :  9.999999999049876 -8.691692249112362e-16 20.000000005262155\n",
      "3.6771505364690136e-17\n",
      "iter_req:  603\n"
     ]
    },
    {
     "data": {
      "image/png": "[encoded data removed]",
      "text/plain": [
       "<Figure size 432x288 with 1 Axes>"
      ]
     },
     "metadata": {
      "needs_background": "light"
     },
     "output_type": "display_data"
    },
    {
     "data": {
      "image/png": "[encoded data removed]",
      "text/plain": [
       "<Figure size 432x288 with 1 Axes>"
      ]
     },
     "metadata": {
      "needs_background": "light"
     },
     "output_type": "display_data"
    }
   ],
   "source": [
    "# Setting the paramerters \n",
    "lr = 0.03\n",
    "num_iter = 1000\n",
    "tol = 10**(-10)\n",
    "r_iter = np.arange(1, num_iter + 1,1)\n",
    "\n",
    "# Ground Truth Values\n",
    "a_gt = 10\n",
    "m_gt = 0\n",
    "s_gt = 20\n",
    "\n",
    "# Set of observations\n",
    "num_obs = 50\n",
    "xobs = np.linspace(-25,25,num_obs)\n",
    "yobs = gaussian(xobs, a_gt, m_gt, s_gt)\n",
    "\n",
    "# Initial estimate\n",
    "a0 = 10\n",
    "m0 = 13\n",
    "s0 = 19.12\n",
    "\n",
    "a_pred, m_pred, s_pred, cost, stop_iter = gradient_descent(a0, m0, s0, xobs, yobs, lr, num_iter, tol)\n",
    "y_pred = gaussian(xobs, a_pred, m_pred, s_pred)\n",
    "print(\"Pred : \", a_pred, m_pred, s_pred)\n",
    "print(cost[stop_iter-1])\n",
    "print(\"iter_req: \", stop_iter)\n",
    "plot1(r_iter, cost, \"The cost function value vs the number of iterations\", \"iterations\", \"loss\")     \n",
    "plot2(xobs, yobs, y_pred, \"The Ground Truth data values vs the predicted data values\")     "
   ]
  },
  {
   "cell_type": "markdown",
   "id": "d5a2faf9",
   "metadata": {},
   "source": [
    "## 1.2: Another Non-Linear function\n",
    "Now that you've got the hang of computing the jacobian matrix for a non-linear function via the aid of an example, try to compute the jacobian of a secondary gaussian function by carrying out steps similar to what has been shown above. The function is plotted below:\n",
    "<img src='./helpers/non_linear.png' alt=drawing width=500 height=600>\n",
    "Using the computed jacobian, optimise for the four parameters using gradient descent, where the parameters to be estimated are: \n",
    "\n",
    "$p_1$ = 2,  $p_2$ = 8,  $p_3$ = 4,  $p_4$ = 8. \n",
    "\n",
    "Do this for $x_{obs} = np.linspace(-20,30, num\\_obs)$,\n",
    "where $num\\_obs$ is 50."
   ]
  },
  {
   "cell_type": "code",
   "execution_count": 4,
   "id": "f4079fc4",
   "metadata": {},
   "outputs": [],
   "source": [
    "def make_non_linear(x, p1, p2, p3, p4):\n",
    "    y = p1 * np.exp(-x / p2) + p3 * np.sin(x / p4)\n",
    "    return y\n",
    "\n",
    "def find_residue_non_linear(p1, p2, p3, p4, x, y):\n",
    "    residue = p1 * np.exp(-x / p2) + p3 * np.sin(x / p4) - y\n",
    "    return residue  \n",
    "\n",
    "def calculate_jacobian_non_linear(p1, p2, p3, p4, x):\n",
    "    dy_dp1 = np.exp(-x / p2)\n",
    "    dy_dp2 = p1 * x * np.exp(-x / p2)/p2**2\n",
    "    dy_dp3 = np.sin(x / p4)\n",
    "    dy_dp4 = - x * p3 * np.cos(x / p4)/p4**2 \n",
    "    return (np.array([dy_dp1, dy_dp2, dy_dp3, dy_dp4]))\n",
    "\n",
    "def gradient_descent_II(p1, p2, p3, p4, xobs, yobs, lr, num_iter, tol):\n",
    "    ini_vec = np.array([p1, p2, p3, p4])\n",
    "    k = ini_vec\n",
    "    cost = np.zeros(num_iter)\n",
    "    stop_iter = num_iter \n",
    "    for i in range(num_iter):\n",
    "        p1_curr = k[0]\n",
    "        p2_curr = k[1]\n",
    "        p3_curr = k[2]\n",
    "        p4_curr = k[3]\n",
    "        \n",
    "#         Calculate residue\n",
    "        r = find_residue_non_linear(p1_curr, p2_curr, p3_curr, p4_curr, xobs, yobs)\n",
    "        \n",
    "        cost[i] = np.linalg.norm(r)**2\n",
    "#         Calculating the jacobian\n",
    "        J_r = calculate_jacobian_non_linear(p1_curr, p2_curr, p3_curr, p4_curr, xobs)\n",
    "\n",
    "        J_F = calculate_J_F(J_r, r)\n",
    "\n",
    "#         Performing the update\n",
    "        dk = -lr*J_F\n",
    "        \n",
    "        k = k + dk\n",
    "        \n",
    "#         break once the error reduces below tol for all the three parameters\n",
    "        if((abs(dk[0])<tol) & (abs(dk[1])<tol) & (abs(dk[2])<tol) & (abs(dk[3])<tol)):\n",
    "            stop_iter = i + 1\n",
    "            break\n",
    "    return k[0], k[1], k[2], k[3], cost, stop_iter"
   ]
  },
  {
   "cell_type": "code",
   "execution_count": 5,
   "id": "04e139dc",
   "metadata": {},
   "outputs": [
    {
     "name": "stdout",
     "output_type": "stream",
     "text": [
      "Pred :  2.000011197130983 8.000021151205585 4.000003540751196 7.999995946779353\n",
      "iter_req:  2000\n"
     ]
    },
    {
     "data": {
      "image/png": "[encoded data removed]",
      "text/plain": [
       "<Figure size 432x288 with 1 Axes>"
      ]
     },
     "metadata": {
      "needs_background": "light"
     },
     "output_type": "display_data"
    },
    {
     "data": {
      "image/png": "[encoded data removed]",
      "text/plain": [
       "<Figure size 432x288 with 1 Axes>"
      ]
     },
     "metadata": {
      "needs_background": "light"
     },
     "output_type": "display_data"
    }
   ],
   "source": [
    "# Setting the paramerters \n",
    "lr = 0.001\n",
    "num_iter = 2000\n",
    "tol = 10**(-15)\n",
    "r_iter = np.arange(1, num_iter + 1,1)\n",
    "# Ground Truth Values\n",
    "p1_gt = 2\n",
    "p2_gt = 8\n",
    "p3_gt = 4\n",
    "p4_gt = 8\n",
    "\n",
    "num_obs = 50\n",
    "xobs = np.linspace(-20,30,num_obs)\n",
    "yobs = make_non_linear(xobs, p1_gt, p2_gt, p3_gt, p4_gt)\n",
    "\n",
    "p10 = 0\n",
    "p20 = 15\n",
    "p30 = 12\n",
    "p40 = 3\n",
    "\n",
    "p1_pred, p2_pred, p3_pred, p4_pred, cost, stop_iter = gradient_descent_II(p10, p20, p30, p40, xobs, yobs, lr, num_iter, tol)\n",
    "y_pred = make_non_linear(xobs, p1_pred, p2_pred, p3_pred, p4_pred)\n",
    "print(\"Pred : \", p1_pred, p2_pred, p3_pred, p4_pred)\n",
    "print(\"iter_req: \", stop_iter)\n",
    "plot1(r_iter, cost, \"The cost function value vs the number of iterations\", \"iterations\", \"loss\")     \n",
    "plot2(xobs, yobs, y_pred, \"The Ground Truth data values vs the predicted data values\")  "
   ]
  },
  {
   "cell_type": "markdown",
   "id": "4e21ed95",
   "metadata": {},
   "source": [
    "## 1.3: Different Optimizers\n",
    "\n",
    "Replace gradient descent with Gauss-Newton and Levenberg Marquardt algorithms and repeat question 1.1. \n",
    "\n",
    "To quickly recap, Gauss-Newton and Levenberg Marquardt are alternate update rules to the standard gradient descent. Gauss Newton updates work as:\n",
    "\n",
    "$$\\delta x = -(J^TJ)^{-1}J^Tf(x)$$\n",
    "\n",
    "Levenberg Marquardt lies somewhere between Gauss Newton and Gradient Descent algorithms by blending the two formulations. As a result, when at a steep cliff, LM takes small steps to avoid overshooting, and when at a gentle slope, LM takes bigger steps:\n",
    "\n",
    "\n",
    "$$\\delta x = -(J^TJ + \\lambda I)^{-1}J^Tf(x)$$"
   ]
  },
  {
   "cell_type": "code",
   "execution_count": 6,
   "id": "6cb7954e",
   "metadata": {},
   "outputs": [],
   "source": [
    "def calculate_J_F_Gauss_Newton(J, r):\n",
    "    return (np.linalg.pinv(J@(J.T)))@J@r\n",
    "\n",
    "def Gauss_Newton(a0, m0, s0, xobs, yobs, num_iter, tol):\n",
    "    ini_vec = np.array([a0, m0, s0])\n",
    "    k = ini_vec\n",
    "    cost = np.zeros(num_iter)\n",
    "    stop_iter = num_iter \n",
    "    for i in range(num_iter):\n",
    "        a_curr = k[0]\n",
    "        m_curr = k[1]\n",
    "        s_curr = k[2]\n",
    "        \n",
    "#       Finding the residue/cost\n",
    "        r = find_residue_gaussian(a_curr, m_curr, s_curr, xobs, yobs)\n",
    "    \n",
    "        cost[i] = np.linalg.norm(r)**2\n",
    "#         Calculating the jacobian\n",
    "        J_r = calculate_jacobian(a_curr, m_curr, s_curr, xobs)\n",
    "\n",
    "        J_F = calculate_J_F_Gauss_Newton(J_r, r)\n",
    "#         Performing the update\n",
    "        dk = -J_F\n",
    "        \n",
    "        k = k + dk\n",
    "        \n",
    "        if(np.linalg.norm(dk) < tol):\n",
    "            print(\"dk: \", np.linalg.norm(dk))\n",
    "            stop_iter = i + 1\n",
    "            break\n",
    "    return k[0], k[1], k[2], cost, stop_iter"
   ]
  },
  {
   "cell_type": "code",
   "execution_count": 7,
   "id": "532056ac",
   "metadata": {
    "scrolled": true
   },
   "outputs": [
    {
     "name": "stdout",
     "output_type": "stream",
     "text": [
      "dk:  0.0\n",
      "Pred :  10.0 -3.1207167450187305e-16 20.0\n",
      "iter_req:  8\n"
     ]
    },
    {
     "data": {
      "image/png": "[encoded data removed]",
      "text/plain": [
       "<Figure size 432x288 with 1 Axes>"
      ]
     },
     "metadata": {
      "needs_background": "light"
     },
     "output_type": "display_data"
    },
    {
     "data": {
      "image/png": "[encoded data removed]",
      "text/plain": [
       "<Figure size 432x288 with 1 Axes>"
      ]
     },
     "metadata": {
      "needs_background": "light"
     },
     "output_type": "display_data"
    }
   ],
   "source": [
    "# Setting the paramerters \n",
    "num_iter = 100\n",
    "tol = 10**(-15)\n",
    "r_iter = np.arange(1, num_iter + 1,1)\n",
    "# Ground Truth Values\n",
    "a_gt = 10\n",
    "m_gt = 0\n",
    "s_gt = 20\n",
    "\n",
    "# Set of observations\n",
    "num_obs = 50\n",
    "xobs = np.linspace(-25,25,num_obs)\n",
    "yobs = gaussian(xobs, a_gt, m_gt, s_gt)\n",
    "# Initial estimate\n",
    "a0 = 10\n",
    "m0 = 13\n",
    "s0 = 19.12\n",
    "\n",
    "a_pred, m_pred, s_pred, cost, stop_iter = Gauss_Newton(a0, m0, s0, xobs, yobs, num_iter, tol)\n",
    "y_pred = gaussian(xobs, a_pred, m_pred, s_pred)\n",
    "print(\"Pred : \", a_pred, m_pred, s_pred)\n",
    "print(\"iter_req: \", stop_iter)\n",
    "# print(\"Cost: \", cost)\n",
    "plot1(r_iter, cost, \"The cost function value vs the number of iterations\", \"iterations\", \"loss\")     \n",
    "plot2(xobs, yobs, y_pred, \"The Ground Truth data values vs the predicted data values\")          "
   ]
  },
  {
   "cell_type": "code",
   "execution_count": 8,
   "id": "f7aa29cf",
   "metadata": {},
   "outputs": [],
   "source": [
    "def calculate_J_F_Levenberg_Marquardt(J, r, ld):\n",
    "    return np.linalg.pinv(J@J.T + ld*np.eye(J.shape[0]))@J@r\n",
    "\n",
    "def calculate_J_F_Levenberg_Marquardt_Modified(J, r, ld):\n",
    "    return np.linalg.pinv(J@J.T + ld*np.diag(np.diag(J@J.T)))@J@r\n",
    "\n",
    "def Levenberg_Marquardt(a0, m0, s0, xobs, yobs, ld, num_iter, tol):\n",
    "    ini_vec = np.array([a0, m0, s0])\n",
    "    k = ini_vec\n",
    "    cost = np.zeros(num_iter)\n",
    "    stop_iter = num_iter \n",
    "    scale_factor = 10\n",
    "    \n",
    "    for i in range(num_iter):\n",
    "        a_curr = k[0]\n",
    "        m_curr = k[1]\n",
    "        s_curr = k[2]\n",
    "        \n",
    "#       Finding the residue/cost\n",
    "        r = find_residue_gaussian(a_curr, m_curr, s_curr, xobs, yobs)\n",
    "\n",
    "        cost[i] = np.linalg.norm(r)**2\n",
    "#         Calculating the jacobian\n",
    "        J_r = calculate_jacobian(a_curr, m_curr, s_curr, xobs)\n",
    "\n",
    "        J_F = calculate_J_F_Levenberg_Marquardt_Modified(J_r, r, ld)\n",
    "        \n",
    "        dk = -J_F\n",
    "#         Performing the update        \n",
    "        k = k + dk\n",
    "        \n",
    "        r_new = find_residue_gaussian(k[0], k[1], k[2], xobs, yobs)\n",
    "        cost_new = np.linalg.norm(r_new)**2\n",
    "        \n",
    "        if(cost_new < cost[i]):\n",
    "            ld = ld/scale_factor  \n",
    "        else: \n",
    "            ld = ld*scale_factor\n",
    "            k = k - dk\n",
    "            \n",
    "        if(np.linalg.norm(dk) < tol):\n",
    "            print(\"dk: \", np.linalg.norm(dk))\n",
    "            stop_iter = i + 1\n",
    "            break\n",
    "            \n",
    "    return k[0], k[1], k[2], cost, stop_iter "
   ]
  },
  {
   "cell_type": "code",
   "execution_count": 9,
   "id": "2a85f8db",
   "metadata": {
    "scrolled": true
   },
   "outputs": [
    {
     "name": "stdout",
     "output_type": "stream",
     "text": [
      "dk:  0.0\n",
      "Pred :  10.0 -4.3933387142061215e-16 20.0\n",
      "iter_req:  9\n"
     ]
    },
    {
     "data": {
      "image/png": "[encoded data removed]",
      "text/plain": [
       "<Figure size 432x288 with 1 Axes>"
      ]
     },
     "metadata": {
      "needs_background": "light"
     },
     "output_type": "display_data"
    },
    {
     "data": {
      "image/png": "[encoded data removed]",
      "text/plain": [
       "<Figure size 432x288 with 1 Axes>"
      ]
     },
     "metadata": {
      "needs_background": "light"
     },
     "output_type": "display_data"
    }
   ],
   "source": [
    "# Setting the paramerters \n",
    "num_iter = 100\n",
    "tol = 10**(-20)\n",
    "r_iter = np.arange(1, num_iter + 1,1)\n",
    "ld = 0.01\n",
    "# Ground Truth Values\n",
    "a_gt = 10\n",
    "m_gt = 0\n",
    "s_gt = 20\n",
    "\n",
    "# Set of observations\n",
    "num_obs = 50\n",
    "xobs = np.linspace(-25,25,num_obs)\n",
    "yobs = gaussian(xobs, a_gt, m_gt, s_gt)\n",
    "# Initial estimate\n",
    "a0 = 10\n",
    "b0 = 13\n",
    "c0 = 19.12\n",
    "\n",
    "a_pred, m_pred, s_pred, cost, stop_iter = Levenberg_Marquardt(a0, m0, s0, xobs, yobs, ld, num_iter, tol)\n",
    "y_pred = gaussian(xobs, a_pred, m_pred, s_pred)\n",
    "print(\"Pred : \", a_pred, m_pred, s_pred)\n",
    "print(\"iter_req: \", stop_iter)\n",
    "# print(\"Cost: \", cost[stop_iter-1])\n",
    "plot1(r_iter, cost, \"The cost function value vs the number of iterations\", \"iterations\", \"loss\")     \n",
    "plot2(xobs, yobs, y_pred, \"The Ground Truth data values vs the predicted data values\")     "
   ]
  },
  {
   "cell_type": "markdown",
   "id": "6427fe2f",
   "metadata": {},
   "source": [
    "**Questions**\n",
    "   * 1. How does the choice of initial estimate and learning rate affect convergence? Observations and analysis from repeated runs with modified hyperparameters will suffice.\n",
    "   * 2. Do you notice any difference between the three optimizers? Why do you think that is? (If you are unable to see a clear trend, what would you expect in general based on what you know about them)"
   ]
  },
  {
   "cell_type": "markdown",
   "id": "6f3f0725",
   "metadata": {},
   "source": [
    "<!-- <figure> -->\n",
    "<img src='./Observations/GD.png' alt=drawing >\n",
    "\n",
    "<!-- <figure> -->\n",
    "<img src='./Observations/GN.png' alt=drawing >\n",
    "\n",
    "<!-- <figure> -->\n",
    "<img src='./Observations/LM.png' alt=drawing >\n",
    "\n",
    "**1.**  The choice of initial estimate and learning rate affect convergence in the following ways.\n",
    "* Different Initializations:\n",
    "Changing initialization can have two different effects. We may get different minima if the function is not convex. It is possible to get a solution that can fit our function. If our initialization is close to that solution, we will converge at that point. We can observe in one of the test cases where final computation may change: If it is close to our solution, it will converge in fewer steps(keeping lambda same), but if it is far away, it will take more iterations. If we have an accurate initial estimate, it will quickly converge; else, it will take time.\n",
    "\n",
    "* Learning Rate:\n",
    "Learning rate is a hyper-parameter that controls how giant step we take in the direction of the loss gradient. The lower the value, the slower we travel along the downward slope and the more iterations it takes to converge to the local minima. This might cause the algorithm to get stuck in an undesirable local minimum. The same is observed from the observations compiled in the table above. While this might be a good idea in some cases (using a low learning rate), we want to ensure that we do not miss any local minima. On the other hand, using a very high learning rate might jump over minima, keep oscillating around it, and never converge.\n",
    "\n",
    "These observations are compiled from the tables given above. \n",
    "\n",
    "**2.**  The general trend observed from the above three tables is compiled below. The Observations with gradient descent will be pretty straightforward with larger iteration. GD is preferred when there is noise in data. GN and LM converge with lesser iterations. Gauss Newton depends on inverse( which may not exist sometimes).\n",
    "* By changing the initial estimate, Gradient Descent takes a lot of computation if the initialization is far from the expected answer. But if it is nearer to the Ground truth, then the iterations to converge are relatively reduced. This problem is handled in Gauss-Newton. It takes much lesser iterations to reach the original value. But the problem is the jacobian matrix may be singular, and the inverse may not exist at that particular value. The inverse problem is handled well using LM. The additional Lambda term ensures the existence of inverse. Also, LM removes the restriction of singularity in most cases (but there may be instances that cause it to be singular). If we change the initialization, we also end up getting different solutions for the same problem. The algorithms try to reach the function’s minima closest to initialized values.\n",
    "* Gradient descent takes a relatively very high number of iterations to converge than the other two. This is because of the constant Learning rate, which does not update according to the change requirement. The two different algorithms have the change varying according to the Jacobian. The Gradient descent required a lot of computation. Gauss Newton is a better solution than gradient descent because it will converge in lesser iteration but may fail if the inverse doesn’t exist for the (J.T@J) matrix. The update rule is similar to Gauss-Newton in LM, even though it depends on the chosen parameter lambda. We observe that as lambda becomes smaller and smaller, the LM update rule tends closer to Gauss-Newton but ensures that the inverse exists in most cases. By increasing lambda, it tends to gradient descent. So a lambda range and the scale_factor for continuous update of lambda characterizes the LM algorithm. \n",
    "* If we increase the number of observations, we will get more terms in our error matrix, and we will get a better-estimated deviation of prediction from the data. This may decrease the iterations but may not give much change in computation. And your loss function will be relatively more minor. If observations are fewer, the algorithm may take time to converge because identifying the change in trend is not easy. Even if it converges, there is a higher error than for more observations. GN and LM do not improve much in terms of convergence when the number of observations increases or decreases. But too few observations may cause the algorithm to take more time to converge because identifying the change in trend is not easy. Even if it converges, there is a more significant error than for more observations.\n"
   ]
  },
  {
   "cell_type": "markdown",
   "id": "071f36f2",
   "metadata": {},
   "source": [
    "# 2. Iterative Closest Point\n",
    "\n",
    "In this subsection, we will code the Iterative Closest Point algorithm to find the alignment between two point clouds without known correspondences. The point cloud that you will be using is the same as the one that you used in Assignment 1.\n",
    "\n",
    "## 2.1: Procrustes alignment\n",
    "\n",
    "1. Write a function that takes two point clouds as input wherein the corresponding points between the two point clouds are located at the same index and returns the transformation matrix between them.\n",
    "2. Use the bunny point cloud and perform the procrustes alignment between the two bunnies. Compute the absolute alignment error after aligning the two bunnies.\n",
    "3. Make sure your code is modular as we will use this function in the next sub-part.\n",
    "4. Prove mathematically why the Procrustes alignment gives the best aligning transform between point clouds with known correspondences.\n"
   ]
  },
  {
   "cell_type": "code",
   "execution_count": 13,
   "id": "f8b9f0c4",
   "metadata": {},
   "outputs": [],
   "source": [
    "# 2.1.1\n",
    "\n",
    "def procrustes(P1, P2):\n",
    "        \n",
    "    # implementing procrustes to get R, t\n",
    "    mean_pc1 = np.mean(P1, axis = 1, keepdims = True)\n",
    "    \n",
    "    P1 -= mean_pc1\n",
    "    mean_pc2 = np.mean(P2, axis = 1, keepdims = True)\n",
    "    P2 -= mean_pc2\n",
    "    pc1 = P1\n",
    "    pc2 = P2.T\n",
    "    W = pc1 @ pc2\n",
    "\n",
    "    U, S, Vt = np.linalg.svd(W)\n",
    "    \n",
    "    # Rotation matrix\n",
    "    R = U @ Vt\n",
    "    \n",
    "    #using general form of R if determinant is below zero\n",
    "    s = np.array([[1,0,0],[0,1,0],[0,0, np.linalg.det(U)*np.linalg.det(Vt)]])  \n",
    "    if(np.linalg.det(R)<0):\n",
    "        R = U @ s @ Vt\n",
    "    R = R.T\n",
    "    # Translation matrix\n",
    "    t = mean_pc2 - R @ mean_pc1\n",
    "\n",
    "    # Transformation matrix\n",
    "    T = np.eye(4)\n",
    "    T[:3,:3] = R\n",
    "    T[0,3] = t[0]\n",
    "    T[1,3] = t[1]\n",
    "    T[2,3] = t[2]\n",
    "    T[3,:] = np.array([0,0,0,1])\n",
    "\n",
    "    return T, R, t"
   ]
  },
  {
   "cell_type": "code",
   "execution_count": 14,
   "id": "b4eb17f8",
   "metadata": {
    "scrolled": true
   },
   "outputs": [],
   "source": [
    "import copy \n",
    "\n",
    "# transform original bunny to form a new bunny pcd\n",
    "\n",
    "def transform_pcd_1(mesh):\n",
    "    T = np.eye(4)\n",
    "    T[:3, :3] = mesh.get_rotation_matrix_from_xyz((np.pi/4, np.pi/3, 0))\n",
    "    T[0, 3] = 0\n",
    "    T[1, 3] = 0\n",
    "    T[2, 3] = 0.1\n",
    "    mesh2 = copy.deepcopy(mesh).transform(T)\n",
    "    pcd = np.asarray(mesh.points)\n",
    "    pcd2 = np.asarray(mesh2.points)\n",
    "    \n",
    "    print(\"Actual transformation matrix: \\n\",T)\n",
    "\n",
    "    return pcd.T, pcd2.T, T\n",
    "\n",
    "def transform_pcd(P):\n",
    "    P = np.asarray(P.points)\n",
    "    P = P.T\n",
    "    P1 = P\n",
    "    \n",
    "    theta = ( 30.0 / 360) * 2 * np.pi\n",
    "    rot = np.array([[math.cos(theta), -math.sin(theta),0],\n",
    "                     [math.sin(theta),  math.cos(theta), 0],\n",
    "                     [0, 0, 1]])\n",
    "    R = np.array([[1, 0,0.3],[1, 2, 1],[0, 1, 0]])\n",
    "\n",
    "    P1 = np.dot(rot, P1)\n",
    "    t = np.array([0,0,0.1])\n",
    "    P1[0] += t[0]\n",
    "    P1[1] += t[1]\n",
    "    P1[2] += t[2]\n",
    "    \n",
    "    T = np.eye(4)\n",
    "    T[:3,:3] = rot\n",
    "    T[0,3] = t[0]\n",
    "    T[1,3] = t[1]\n",
    "    T[2,3] = t[2]\n",
    "    T[3,:] = np.array([0,0,0,1])\n",
    "    \n",
    "    print(\"Actual transformation matrix: \\n\",T)\n",
    "    \n",
    "    return P, P1, T"
   ]
  },
  {
   "cell_type": "code",
   "execution_count": 16,
   "id": "9d2ff55e",
   "metadata": {},
   "outputs": [
    {
     "name": "stdout",
     "output_type": "stream",
     "text": [
      "Actual transformation matrix: \n",
      " [[ 0.8660254 -0.5        0.         0.       ]\n",
      " [ 0.5        0.8660254  0.         0.       ]\n",
      " [ 0.         0.         1.         0.1      ]\n",
      " [ 0.         0.         0.         1.       ]]\n",
      "Calculated transformation matrix: \n",
      " [[ 8.66025404e-01 -5.00000000e-01  8.93920572e-17 -1.38777878e-17]\n",
      " [ 5.00000000e-01  8.66025404e-01  3.69546375e-16  0.00000000e+00]\n",
      " [-2.57410130e-16 -2.86628170e-16  1.00000000e+00  1.00000000e-01]\n",
      " [ 0.00000000e+00  0.00000000e+00  0.00000000e+00  1.00000000e+00]]\n",
      "initial l1 norm error 22.05645060023794\n",
      "final l1 norm error 4.9568031048087776e-15\n"
     ]
    }
   ],
   "source": [
    "import open3d\n",
    "from open3d import *\n",
    "pcd_load = open3d.io.read_point_cloud(\"bunny.ply\")\n",
    "P1,P2,F= transform_pcd(pcd_load)\n",
    "\n",
    "err1 = np.linalg.norm(P1-P2)\n",
    "T,R,t = procrustes(P1.copy(),P2.copy())\n",
    "P1n = np.dot(R, P1) + t\n",
    "err2 = np.linalg.norm(P2-P1n)\n",
    "print(\"Calculated transformation matrix: \\n\",T)\n",
    "print(\"initial l1 norm error\",err1)\n",
    "print(\"final l1 norm error\",err2)\n",
    "\n",
    "P2 = P2.T\n",
    "P1n = P1n.T\n",
    "\n",
    "# visualize the bunnies\n",
    "pcd1 = open3d.geometry.PointCloud()\n",
    "pcd1.points = open3d.utility.Vector3dVector(P1n)\n",
    "pcd1.paint_uniform_color([0.1,0,0.9])\n",
    "pcd2 = open3d.geometry.PointCloud()\n",
    "pcd2.points = open3d.utility.Vector3dVector(P2)\n",
    "pcd2.paint_uniform_color([0.9,0,0.1])\n",
    "open3d.visualization.draw_geometries([pcd1,pcd2])"
   ]
  },
  {
   "cell_type": "markdown",
   "id": "d1b3638f",
   "metadata": {},
   "source": [
    "### Question 2.1 Part4\n",
    "\n",
    "<!-- <figure> -->\n",
    "<img src='./Observations/2.1_Part4/1.jpeg' alt=drawing >\n",
    "\n",
    "<!-- <figure> -->\n",
    "<img src='./Observations/2.1_Part4/2.jpeg' alt=drawing >\n",
    "\n",
    "<!-- <figure> -->\n",
    "<img src='./Observations/2.1_Part4/3.jpeg' alt=drawing >\n",
    "\n",
    "<!-- <figure> -->\n",
    "<img src='./Observations/2.1_Part4/4.jpeg' alt=drawing >"
   ]
  },
  {
   "cell_type": "markdown",
   "id": "ece62098",
   "metadata": {},
   "source": [
    "## 2.2: ICP alignment\n",
    "\n",
    "1. Write a function that takes two point clouds as input without known correspondences and perform the iterative closest point algorithm.\n",
    "2. Perform the ICP alignment between the two bunnies and plot their individual coordinate frames as done in class.\n",
    "3. Does ICP always give the correct alignment? Why or Why not?\n",
    "4. What are other variants of ICP and why are they helpful (you can look at point to plane ICP)?"
   ]
  },
  {
   "cell_type": "code",
   "execution_count": 17,
   "id": "bd60b106",
   "metadata": {},
   "outputs": [],
   "source": [
    "from sklearn.neighbors import KDTree\n",
    "def euclidean(p1, p2):\n",
    "    p1 = p1.reshape(3,1)\n",
    "    p2 = p2.reshape(3,1)\n",
    "    return np.sqrt(np.sum(np.square(p1-p2)))\n",
    "\n",
    "def find_closest(M1, M2):\n",
    "    # find closest points using in-built KDTree algo\n",
    "    M1 = M1.T\n",
    "    M2 = M2.T\n",
    "    kdt = KDTree(M2)\n",
    "    dist, ind = kdt.query(M1)\n",
    "    return dist.T, ind.T[0]\n",
    "\n",
    "def find_nearest(array, value):\n",
    "    array = np.asarray(array.T)\n",
    "    idx = (np.linalg.norm(array - value, axis=1)**2).argmin()\n",
    "    return idx\n",
    " \n",
    "def find_correspondences(P1, P2):\n",
    "    dist, ind1 = find_closest(P1,P2)\n",
    "    return P1, P2[:,ind1]\n",
    "#     n = P2.shape[1]\n",
    "#     arr = np.zeros(n)\n",
    "#     # find modified P2\n",
    "#     P_new = np.empty((0,3))\n",
    "#     ind1 = []\n",
    "#     for i in range(n):\n",
    "#         ind = find_nearest(P2, P1[:,i]) #find point in P2 closest from P1[:,i]\n",
    "#         ind1.append(ind)\n",
    "    \n",
    "#     P_new = P_new.T\n",
    "\n",
    "def mean_dist(A, B):\n",
    "    dist = 0\n",
    "    for i in range(A.shape[1]):\n",
    "        dist += euclidean(A[:,i],B[:,i])\n",
    "    dist /= A.shape[1]\n",
    "    return dist"
   ]
  },
  {
   "cell_type": "code",
   "execution_count": 18,
   "id": "220b480a",
   "metadata": {
    "scrolled": true
   },
   "outputs": [],
   "source": [
    "def visualize(PC1,PC2,c1,c2):\n",
    "    PC1 = PC1.T\n",
    "    PC2 = PC2.T\n",
    "    pcd1 = open3d.geometry.PointCloud()\n",
    "    pcd1.points = open3d.utility.Vector3dVector(PC1)\n",
    "    pcd1.paint_uniform_color([0.1,0,0.9])\n",
    "    pcd2 = open3d.geometry.PointCloud()\n",
    "    pcd2.points = open3d.utility.Vector3dVector(PC2)\n",
    "    pcd2.paint_uniform_color([0.9,0,0.1])\n",
    "#     coord_frame1 = open3d.geometry.TriangleMesh.create_coordinate_frame(\n",
    "#         size=0.1, origin=np.mean(PC1, axis=0))\n",
    "#     coord_frame1.transform(TT)\n",
    "#     coord_frame2 = open3d.geometry.TriangleMesh.create_coordinate_frame(\n",
    "#         size=0.1, origin=np.mean(PC2, axis=0))\n",
    "#     coord_frame2.transform(x)\n",
    "    open3d.visualization.draw_geometries([pcd1,pcd2,c1,c2])"
   ]
  },
  {
   "cell_type": "code",
   "execution_count": 19,
   "id": "5270187f",
   "metadata": {},
   "outputs": [],
   "source": [
    "def icp_algo(P1,P2,c1,c2):\n",
    "    tolerance = 1e-10\n",
    "    P1n = copy.deepcopy(P1)\n",
    "    transform = np.eye(4)\n",
    "    dist, ind = find_closest(P1,P2)   # get distances and indices of the points closest to P1 from points in P2\n",
    "    preverr = np.mean(np.square(dist))\n",
    "    preverr1 = np.linalg.norm(P1-P2)\n",
    "    print(\"Initial:  Mean distance Error:\",preverr, \" L1 Norm error:\",preverr1)\n",
    "    for iter in range(100):\n",
    "#         P1n, P2n = find_correspondences(P1n, P2)    # get modified P2 matrix\n",
    "        P2n = P2[:,ind]   # rearrange P2 matrix using the ind array\n",
    "        T, R, t = procrustes(P1n.copy(),P2n.copy())\n",
    "        transform = transform @ np.linalg.inv(T)\n",
    "        P1n = np.dot(R, P1n) + t    # update P1n for next iteration\n",
    "        c1 = c1.transform(T)\n",
    "        \n",
    "            \n",
    "        err1 = np.linalg.norm(P1n-P2)\n",
    "        dist, ind = find_closest(P1n,P2)\n",
    "        err = np.mean(np.square(dist))\n",
    "        print(\"Iteration:\",iter+1,\" Mean distance Error:\",err, \" L1 Norm error:\",err1)\n",
    "        if(err<tolerance):\n",
    "            # display bunnies before breaking\n",
    "            visualize(P1n.copy(), P2.copy(),c1,c2)\n",
    "            break\n",
    "        \n",
    "        #visualize bunnies\n",
    "        if not (iter)%5:\n",
    "            visualize(P1n.copy(), P2.copy(),c1,c2)\n",
    "    \n",
    "    # obtain rotation matrix using final P2 which is arranged in order of correspondence\n",
    "    T, R, t = procrustes(P1.copy(), P2n.copy())\n",
    "    print(\"\\ncalculated transformation matrix:\\n\", T)\n",
    "        \n",
    "    return P1.copy(), P2n.copy()"
   ]
  },
  {
   "cell_type": "code",
   "execution_count": 20,
   "id": "46b983dc",
   "metadata": {
    "scrolled": true
   },
   "outputs": [
    {
     "name": "stdout",
     "output_type": "stream",
     "text": [
      "Actual transformation matrix: \n",
      " [[ 0.8660254 -0.5        0.         0.       ]\n",
      " [ 0.5        0.8660254  0.         0.       ]\n",
      " [ 0.         0.         1.         0.1      ]\n",
      " [ 0.         0.         0.         1.       ]]\n",
      "Initial:  Mean distance Error: 0.005895602004107446  L1 Norm error: 3.1301139199090575\n",
      "Iteration: 1  Mean distance Error: 0.0007955086776288451  L1 Norm error: 1.4717224837372194\n",
      "Iteration: 2  Mean distance Error: 0.0004185510900109439  L1 Norm error: 1.120022222883032\n",
      "Iteration: 3  Mean distance Error: 0.0002666843367137333  L1 Norm error: 0.930228879379267\n",
      "Iteration: 4  Mean distance Error: 0.00019570265059229284  L1 Norm error: 0.8084873403491469\n",
      "Iteration: 5  Mean distance Error: 0.00016140504862299386  L1 Norm error: 0.7242255937926063\n",
      "Iteration: 6  Mean distance Error: 0.00014006606035300026  L1 Norm error: 0.6529741990864083\n",
      "Iteration: 7  Mean distance Error: 0.0001261854102515487  L1 Norm error: 0.5965974738151767\n",
      "Iteration: 8  Mean distance Error: 0.00011711231920421888  L1 Norm error: 0.5481892161573217\n",
      "Iteration: 9  Mean distance Error: 0.00010839727372930555  L1 Norm error: 0.5014905577546948\n",
      "Iteration: 10  Mean distance Error: 9.488925111155672e-05  L1 Norm error: 0.4437895778322604\n",
      "Iteration: 11  Mean distance Error: 6.727112647302988e-05  L1 Norm error: 0.3508457572073649\n",
      "Iteration: 12  Mean distance Error: 4.161043899203653e-05  L1 Norm error: 0.2512074200122698\n",
      "Iteration: 13  Mean distance Error: 2.5295932175475022e-05  L1 Norm error: 0.17633662286293128\n",
      "Iteration: 14  Mean distance Error: 1.1995320607434963e-05  L1 Norm error: 0.10496971904704679\n",
      "Iteration: 15  Mean distance Error: 2.281574267174858e-06  L1 Norm error: 0.04122951784964904\n",
      "Iteration: 16  Mean distance Error: 1.3274325946118218e-08  L1 Norm error: 0.0030893753988887464\n",
      "Iteration: 17  Mean distance Error: 7.183855695490909e-33  L1 Norm error: 2.2727059301761776e-15\n",
      "\n",
      "calculated transformation matrix:\n",
      " [[ 8.66025404e-01 -5.00000000e-01  1.73789944e-16 -1.38777878e-17]\n",
      " [ 5.00000000e-01  8.66025404e-01  6.37373987e-16  0.00000000e+00]\n",
      " [-4.98036061e-16 -6.25633529e-16  1.00000000e+00  1.00000000e-01]\n",
      " [ 0.00000000e+00  0.00000000e+00  0.00000000e+00  1.00000000e+00]]\n"
     ]
    }
   ],
   "source": [
    "pcd_load = open3d.io.read_point_cloud(\"bunny.ply\")\n",
    "downpcd = pcd_load.uniform_down_sample(50)\n",
    "P1,P2, TT= transform_pcd(downpcd)\n",
    "coord_frame1 = open3d.geometry.TriangleMesh.create_coordinate_frame(\n",
    "    size=0.1, origin=np.mean(P1.T, axis=0))\n",
    "coord_frame2 = open3d.geometry.TriangleMesh.create_coordinate_frame(\n",
    "    size=0.1, origin=np.mean(P2.T, axis=0))\n",
    "#when we take mean it already got translated, so we only rotate here\n",
    "coord_frame2 = coord_frame2.rotate(TT[:3,:3])\n",
    "P1f, P2f = icp_algo(P1.copy(), P2.copy(), coord_frame1, coord_frame2)"
   ]
  },
  {
   "cell_type": "markdown",
   "id": "372d49cb",
   "metadata": {},
   "source": [
    "**3.**\n",
    "ICP doesn't always give the correct alignment. The basic idea behind ICP is that if we somehow knew correspondences, we could solve for the translation that minimizes pairwise distance. ICP makes a seemingly radical guess that the closest points are the correspondences. Since we are considering the closest points, incorrect pairs may be matched when points are very close together or if the transformation between the two point clouds is very large. The convergence of the algorithm also depends on the initial correspondences. For very incorrect initial correspondence, the ICP algorithm may not converge. If we start \"close enough\", ICP converges and gives a transformation matrix close to the ground truth. Another reason for incorrect alignment is that ICP is sensitive to outliers or noise present in the initial point cloud which may cause incorrect alignments."
   ]
  },
  {
   "cell_type": "markdown",
   "id": "52ee438c",
   "metadata": {},
   "source": [
    "**4.** Other variants of ICP include:\n",
    "1. Selecting sample points (from one or both meshes)\n",
    "Methods like normal sampling leads to faster convergence, and it is also low-cost and simple. Other variations include uniform sub-sampling, random sampling, etc\n",
    "2. Matching to points in the other mesh\n",
    "Usually closest point matching is done. Methods like projection-based matching can align to point clouds in milli-seconds as opposed to a few seconds in the case of closest point.\n",
    "3. Weighting the correspondences\n",
    "This includes methods like constant weights, lower weights for higher distance pairs, weights based on normal compatibility, weights based on uncertainty, etc. Weights based on normal compatibility and uncertainty tend to converge faster.\n",
    "4. Rejecting certain (outlier) point pairs\n",
    "5. Assigning an error metric to the current transform\n",
    "6. Minimizing the error metric w.r.t. transformation\n",
    "Using point-to-plane distance instead of point-to-point lets flat regions slide along each other. Point-to-plane is better as it is faster and more likely to converge at the minima i.e. it is more robust.\n",
    "\n",
    "These variants improve various aspects of performance of ICP including speed, stability(local minima), tolerance wrt. noise and outliers, basin of convergence(maximum initial misalignment)"
   ]
  },
  {
   "cell_type": "code",
   "execution_count": null,
   "id": "67fce02d",
   "metadata": {},
   "outputs": [],
   "source": []
  }
 ],
 "metadata": {
  "kernelspec": {
   "display_name": "Python 3 (ipykernel)",
   "language": "python",
   "name": "python3"
  },
  "language_info": {
   "codemirror_mode": {
    "name": "ipython",
    "version": 3
   },
   "file_extension": ".py",
   "mimetype": "text/x-python",
   "name": "python",
   "nbconvert_exporter": "python",
   "pygments_lexer": "ipython3",
   "version": "3.8.11"
  }
 },
 "nbformat": 4,
 "nbformat_minor": 5
}
