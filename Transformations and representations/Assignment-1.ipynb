{
 "cells": [
  {
   "cell_type": "markdown",
   "id": "2063ebd9",
   "metadata": {},
   "source": [
    "# Assignment-1: Transformations and representations\n",
    "\n",
    "Team Name: Robo-Knights\n",
    "\n",
    "Roll number: 2019111007, 2019112002"
   ]
  },
  {
   "cell_type": "markdown",
   "id": "fa480175",
   "metadata": {},
   "source": [
    "# Instructions\n",
    "\n",
    "- Code must be written in Python in Jupyter Notebooks. We highly recommend using anaconda distribution or at the minimum, virtual environments for this assignment. See `Set Up` for detailed step-by-step instructions about the installation setup.\n",
    "- Save all your results in ```results/<question_number>/<sub_topic_number>/```\n",
    "- The **References** section provides you with important resources to solve the assignment.\n",
    "- For this assignment, you will be using Open3D extensively. Refer to [Open3D Documentation](http://www.open3d.org/docs/release/): you can use the in-built methods and **unless explicitly mentioned**, don't need to code from scratch for this assignment. \n",
    "- Make sure your code is modular since you may need to reuse parts for future assignments.\n",
    "- Answer the descriptive questions in your own words with context & clarity. Do not copy answers from online resources or lecture notes.\n",
    "- The **deadline** for this assignment is on 11/09/2021 at 11:55pm. Please note that there will be no extensions.\n",
    "- Plagiarism is **strictly prohibited**.\n"
   ]
  },
  {
   "cell_type": "markdown",
   "id": "c5094933",
   "metadata": {},
   "source": [
    "# Submission Instructions\n",
    "\n",
    "1. Make sure your code runs without any errors after reinitializing the kernel and removing all saved variables.\n",
    "2. After completing your code and saving your results, zip the folder with name as ``Team_<team_name>_MR2021_Assignment_<assignment_number>.zip``"
   ]
  },
  {
   "cell_type": "markdown",
   "id": "6155ea86",
   "metadata": {},
   "source": [
    "# Set Up\n",
    "\n",
    "We highly recommend using anaconda distribution or at the minimum, virtual environments for this assignment. All assignments will be python based, hence familiarising yourself with Python is essential.\n"
   ]
  },
  {
   "cell_type": "markdown",
   "id": "ac1aec71",
   "metadata": {},
   "source": [
    "## Setting up Anaconda environment (Recommended)\n",
    "\n",
    "1. Install Anaconda or Miniconda from [here](https://docs.conda.io/projects/conda/en/latest/user-guide/install/linux.html) depending on your requirements.\n",
    "2. Now simply run `conda env create -f environment.yml` in the current folder to create an environment `mr_assignment1` (`environment.yml` can be found in `misc/`).\n",
    "3. Activate it using `conda activate mr_assignment1`.\n",
    "\n",
    "## Setting up Virtual environment using venv\n",
    "\n",
    "You can also set up a virtual environment using venv\n",
    "\n",
    "1. Run `sudo apt-get install python3-venv` from command line.\n",
    "2. `python3 -m venv ~/virtual_env/mr_assignment1`. (you can set the environment path to anything)\n",
    "3. `source ~/virtual_env/mr_assignment1/bin/activate`\n",
    "4. `pip3 install -r requirements.txt` from the current folder (`requirements.txt` can be found in `misc/`)."
   ]
  },
  {
   "cell_type": "code",
   "execution_count": 1,
   "id": "a0c64550",
   "metadata": {},
   "outputs": [
    {
     "name": "stderr",
     "output_type": "stream",
     "text": [
      "INFO - 2021-09-16 00:15:44,695 - utils - NumExpr defaulting to 8 threads.\n"
     ]
    }
   ],
   "source": [
    "import open3d as o3d\n",
    "import numpy as np\n",
    "import math\n",
    "import copy"
   ]
  },
  {
   "cell_type": "markdown",
   "id": "26289bc6",
   "metadata": {},
   "source": [
    "# 1. Getting started with Open3D\n",
    "\n",
    "Open3D is an open-source library that deals with 3D data, such as point clouds, mesh. We'll be using Open3D frequently as we work with point clouds. Let's start with something simple:\n",
    "\n",
    "<img src=\"misc/bunny.jpg\" alt=\"drawing\" width=\"200\"/>\n",
    "\n",
    "1. Read the Stanford Bunny file (in `data/`) given to you and visualise it using Open3D.\n",
    "2. Convert the mesh to a point cloud and change the colour of points.\n",
    "3. Set a predefined viewing angle (using Open3D) for visualization and display the axes while plotting.\n",
    "4. Scale, Transform, and Rotate the rabbit (visualise after each step).\n",
    "5. Save the point cloud as bunny.pcd."
   ]
  },
  {
   "cell_type": "code",
   "execution_count": 2,
   "id": "9210bcd3",
   "metadata": {},
   "outputs": [],
   "source": [
    "def display(to_display):\n",
    "    vis = o3d.visualization.Visualizer()\n",
    "    vis.create_window()\n",
    "    vis.add_geometry(to_display)\n",
    "    vis.run()\n",
    "    vis.destroy_window()"
   ]
  },
  {
   "cell_type": "code",
   "execution_count": 3,
   "id": "f1f4c419",
   "metadata": {},
   "outputs": [],
   "source": [
    "# 1 visualising the stanford bunny file in mesh format\n",
    "mesh = o3d.io.read_triangle_mesh(\"./data/bunny.ply\")\n",
    "display(mesh)\n",
    "# o3d.visualization.draw_geometries([mesh])\n",
    "\n",
    "# 2 Convert mesh to point cloud \n",
    "pcd = mesh.sample_points_uniformly(number_of_points=50000)\n",
    "# o3d.visualization.draw_geometries([pcd])\n",
    "display(pcd)\n",
    "\n",
    "# Setting the color of the point cloud\n",
    "pcd.paint_uniform_color([0.3,0,0.5])\n",
    "display(pcd)\n",
    "# o3d.visualization.draw_geometries([pcd])"
   ]
  },
  {
   "cell_type": "code",
   "execution_count": 4,
   "id": "4adddab4",
   "metadata": {},
   "outputs": [],
   "source": [
    "# 3 Display the axes while plotting.\n",
    "coord_frame = o3d.geometry.TriangleMesh.create_coordinate_frame(\n",
    "    size=0.1, origin=[0, 0, 0])\n",
    "\n",
    "# Setting a predefined viewing angle \n",
    "o3d.visualization.draw_geometries([pcd, coord_frame],\n",
    "                                  zoom=1.0,\n",
    "                                  front=[0, 0, 5],\n",
    "                                  lookat=[0, 0, 0],\n",
    "                                  up=[0, 1, 0])"
   ]
  },
  {
   "cell_type": "code",
   "execution_count": 5,
   "id": "3add1f2e",
   "metadata": {},
   "outputs": [],
   "source": [
    "# coord_frame = o3d.geometry.TriangleMesh.create_coordinate_frame(\n",
    "#     size=0.1, origin=[0, 0, 0])\n",
    "\n",
    "# 4\n",
    "# rotate\n",
    "pcd_r = copy.deepcopy(pcd)\n",
    "pcd_r.rotate(pcd.get_rotation_matrix_from_xyz((np.pi / 2, 0, 0)),\n",
    "              center=(0, 0, 0))\n",
    "o3d.visualization.draw_geometries([pcd_r, coord_frame])\n",
    "\n",
    "# translate\n",
    "pcd_tr = copy.deepcopy(pcd_r).translate((1, 0, 0))\n",
    "o3d.visualization.draw_geometries([pcd_tr, coord_frame])\n",
    "\n",
    "# scale\n",
    "pcd_str = copy.deepcopy(pcd_tr)\n",
    "pcd_str.scale(0.5,center=pcd_str.get_center())\n",
    "o3d.visualization.draw_geometries([pcd_str, coord_frame])\n",
    "\n",
    "# transform \n",
    "# it shows the final and initial position of the bunny\n",
    "T = np.eye(4)\n",
    "T[:3, :3] = pcd.get_rotation_matrix_from_xyz((0, np.pi / 3, np.pi / 2))\n",
    "T[0, 3] = 1\n",
    "T[1, 3] = 0.5\n",
    "pcd_t = copy.deepcopy(pcd).transform(T)\n",
    "o3d.visualization.draw_geometries([pcd, pcd_t, coord_frame])"
   ]
  },
  {
   "cell_type": "code",
   "execution_count": 6,
   "id": "1974371e",
   "metadata": {},
   "outputs": [
    {
     "data": {
      "text/plain": [
       "True"
      ]
     },
     "execution_count": 6,
     "metadata": {},
     "output_type": "execute_result"
    }
   ],
   "source": [
    "# 5\n",
    "# Save the point cloud as bunny.pcd.\n",
    "o3d.io.write_point_cloud(\"str.pcd\", pcd_str)\n",
    "o3d.io.write_point_cloud(\"transform.pcd\", pcd_t)"
   ]
  },
  {
   "cell_type": "markdown",
   "id": "15a5206b",
   "metadata": {},
   "source": [
    "# 2. Transformations and representations"
   ]
  },
  {
   "cell_type": "markdown",
   "id": "0c933336",
   "metadata": {},
   "source": [
    "## a) Euler angles\n",
    "1. Write a function that returns a rotation matrix given the angles $\\alpha$, $\\beta$, and $\\gamma$ in radians (X-Y-Z)\n",
    "\n",
    "2. Solve for angles using ```fsolve from scipy``` for three initializations of your choice and compare.\n",
    "$$M(\\alpha , \\beta ,\\gamma)=\\left[\\begin{array}{rrr}0.26200263 & -0.19674724 & 0.944799 \\\\0.21984631 & 0.96542533 & 0.14007684 \\\\\n",
    "    -0.93969262 & 0.17101007 & 0.29619813\\end{array}\\right] \n",
    "$$\n",
    "\n",
    "$$N(\\alpha , \\beta ,\\gamma)=\\left[\\begin{array}{rrr}0 & -0.173648178 &  0.984807753 \\\\0 & 0.984807753 & 0.173648178 \\\\\n",
    "    -1 & 0 & 0\\end{array}\\right] \n",
    "$$\n",
    "\n",
    "3. What is a Gimbal lock? \n",
    "\n",
    "4. Show an example where a Gimbal lock occurs and visualize the Gimbal lock on the given bunny point cloud. You have to show the above by **animation** (cube rotating along each axis one by one).\n",
    "    - *Hint: Use Open3D's non-blocking visualization and discretize the rotation to simulate the animation. For example, if you want to rotate by $30^{\\circ}$ around a particular axis, do in increments of $5^{\\circ}$ 6 times to make it look like an animation.*\n"
   ]
  },
  {
   "cell_type": "code",
   "execution_count": 7,
   "id": "f21acbad",
   "metadata": {},
   "outputs": [],
   "source": [
    "def Rx(theta):\n",
    "  return np.matrix([[ 1, 0           , 0           ],\n",
    "                   [ 0, math.cos(theta),-math.sin(theta)],\n",
    "                   [ 0, math.sin(theta), math.cos(theta)]])\n",
    "  \n",
    "def Ry(theta):\n",
    "  return np.matrix([[ math.cos(theta), 0, math.sin(theta)],\n",
    "                   [ 0           , 1, 0           ],\n",
    "                   [-math.sin(theta), 0, math.cos(theta)]])\n",
    "  \n",
    "def Rz(theta):\n",
    "  return np.matrix([[ math.cos(theta), -math.sin(theta), 0 ],\n",
    "                   [ math.sin(theta), math.cos(theta) , 0 ],\n",
    "                   [ 0           , 0            , 1 ]])\n",
    "\n",
    "def getRotationMatrix(alpha, beta, gamma):\n",
    "\n",
    "    rotation_matrix = np.matmul(Rx(alpha),np.matmul(Ry(beta),Rz(gamma)))\n",
    "    return rotation_matrix"
   ]
  },
  {
   "cell_type": "code",
   "execution_count": 8,
   "id": "35854907",
   "metadata": {
    "scrolled": true
   },
   "outputs": [
    {
     "name": "stdout",
     "output_type": "stream",
     "text": [
      "Matrix Computed using the function getRotationMatrix:\n",
      "[[ 0.26200263 -0.21984631  0.93969262]\n",
      " [ 0.91659355  0.36140256 -0.17101007]\n",
      " [-0.30201139  0.90612129  0.29619813]]\n",
      "Matrix Computed using inbuilt function:\n",
      "[[ 0.26200263 -0.21984631  0.93969262]\n",
      " [ 0.91659355  0.36140256 -0.17101007]\n",
      " [-0.30201139  0.90612129  0.29619813]]\n"
     ]
    }
   ],
   "source": [
    "# matrix1_1 = getRotationMatrix(0, 0, 2*np.pi/9)\n",
    "# print(matrix1_1)\n",
    "# matrix1_2 = getRotationMatrix(0, 7*np.pi/18, 0)\n",
    "# print(matrix1_2)\n",
    "# matrix1_3 = getRotationMatrix(np.pi/6, 0, 0)\n",
    "# print(matrix1_3)\n",
    "\n",
    "# final = np.matmul(matrix1_2, matrix1_3)\n",
    "# final = np.matmul(matrix1_1, final )\n",
    "# print(final, \"\\n\")\n",
    "\n",
    "# matrix2_1 = pcd.get_rotation_matrix_from_xyz((0, 0, 2*np.pi/9))\n",
    "# print(matrix2_1)\n",
    "# matrix2_2 = pcd.get_rotation_matrix_from_xyz((0, 7*np.pi/18, 0))\n",
    "# print(matrix2_2)\n",
    "# matrix2_3 = pcd.get_rotation_matrix_from_xyz((np.pi/6, 0, 0))\n",
    "# print(matrix2_3)\n",
    "# final = np.matmul(matrix2_2, matrix2_3)\n",
    "# final = np.matmul(matrix2_1, final )\n",
    "# print(final, \"\\n\")\n",
    "matrix1 = getRotationMatrix(np.pi/6, 7*np.pi/18, 2*np.pi/9)\n",
    "matrix2 = pcd.get_rotation_matrix_from_xyz((np.pi/6, 7*np.pi/18, 2*np.pi/9))\n",
    "# matrix = getRotationMatrix(np.pi/6, 7*np.pi/18, 2*np.pi/9)\n",
    "# matrix = getRotationMatrix(-np.pi/18, np.pi/2, 0)\n",
    "# print(\"Euler rotation matrix for [0,0,30]:\")\n",
    "# print(matrix)\n",
    "# print(final)\n",
    "print(\"Matrix Computed using the function getRotationMatrix:\")\n",
    "print(matrix1)\n",
    "print(\"Matrix Computed using inbuilt function:\")\n",
    "print(matrix2)"
   ]
  },
  {
   "cell_type": "code",
   "execution_count": 9,
   "id": "77565aea",
   "metadata": {},
   "outputs": [],
   "source": [
    "# 2\n",
    "import scipy\n",
    "from scipy.optimize import fsolve\n",
    "\n",
    "M = np.array([[0.26200263, -0.19674724, 0.944799], [0.21984631, 0.96542533, 0.14007684], [-0.93969262, 0.17101007, 0.29619813]])\n",
    "N = np.array([[0., -0.173648178, 0.984807753], [0., 0.984807753, 0.173648178], [-1, 0., 0.]])\n",
    "\n",
    "# Assuming the vector to be rotated as [1,1,1]\n",
    "ini_vec = np.array([[1,1,1]])\n",
    "# Calculating roatated vectors for M and N respectively\n",
    "final_vec_M = np.matmul(M, ini_vec.T)\n",
    "final_vec_N = np.matmul(N, ini_vec.T)\n",
    "# matrix = np.matmul(matrix, ini_vec.T)\n",
    "# print(Rotated matrices matrix)\n",
    "# print(final_vec_M)\n",
    "# print(final_vec_N)\n"
   ]
  },
  {
   "cell_type": "code",
   "execution_count": 10,
   "id": "b506391a",
   "metadata": {},
   "outputs": [],
   "source": [
    "# Definig fsolve function for M\n",
    "def func1(x):\n",
    "    return [np.cos(x[0])*np.cos(x[1])*ini_vec[0,0] + (np.cos(x[0])*np.sin(x[1])*np.sin(x[2]) - np.sin(x[0])*np.cos(x[2]))*ini_vec[0,1] + (np.cos(x[0])*np.sin(x[1])*np.cos(x[2]) + np.sin(x[0])*np.sin(x[2]))*ini_vec[0,2] - 1.01005439,\n",
    "            np.sin(x[0])*np.cos(x[1])*ini_vec[0,0] + (np.sin(x[0])*np.sin(x[1])*np.sin(x[2]) + np.cos(x[0])*np.cos(x[2]))*ini_vec[0,1] + (np.sin(x[0])*np.sin(x[1])*np.cos(x[2]) - np.cos(x[0])*np.sin(x[2]))*ini_vec[0,2] - 1.32534848,\n",
    "            -np.sin(x[1])*ini_vec[0,0] + np.cos(x[1])*np.sin(x[2])*ini_vec[0,1] + np.cos(x[1])*np.cos(x[2])*ini_vec[0,2] + 0.47248442 ]"
   ]
  },
  {
   "cell_type": "code",
   "execution_count": 11,
   "id": "3d902c53",
   "metadata": {},
   "outputs": [],
   "source": [
    "# Definig fsolve function for N\n",
    "def func2(x):\n",
    "    return [np.cos(x[0])*np.cos(x[1])*ini_vec[0,0] + (np.cos(x[0])*np.sin(x[1])*np.sin(x[2]) - np.sin(x[0])*np.cos(x[2]))*ini_vec[0,1] + (np.cos(x[0])*np.sin(x[1])*np.cos(x[2]) + np.sin(x[0])*np.sin(x[2]))*ini_vec[0,2] - 0.81115958,\n",
    "            np.sin(x[0])*np.cos(x[1])*ini_vec[0,0] + (np.sin(x[0])*np.sin(x[1])*np.sin(x[2]) + np.cos(x[0])*np.cos(x[2]))*ini_vec[0,1] + (np.sin(x[0])*np.sin(x[1])*np.cos(x[2]) - np.cos(x[0])*np.sin(x[2]))*ini_vec[0,2] - 1.15845593,\n",
    "            -np.sin(x[1])*ini_vec[0,0] + np.cos(x[1])*np.sin(x[2])*ini_vec[0,1] + np.cos(x[1])*np.cos(x[2])*ini_vec[0,2] + 1.0] "
   ]
  },
  {
   "cell_type": "code",
   "execution_count": 12,
   "id": "4e4d8844",
   "metadata": {},
   "outputs": [],
   "source": [
    "# Calculating the Euler angles from the ratation matrix\n",
    "def returnEulerAngles(expr, initialValue):\n",
    "    root = fsolve(expr, initialValue)\n",
    "    return root"
   ]
  },
  {
   "cell_type": "code",
   "execution_count": 13,
   "id": "6f9b5d0b",
   "metadata": {},
   "outputs": [
    {
     "name": "stdout",
     "output_type": "stream",
     "text": [
      "The real root of M:  [0.6981317  1.22173048 0.52359878]\n",
      "The real root of N:  [ 0.          1.57079633 -0.17453293] \n",
      "\n",
      "Roots found using fsolve method:\n",
      "\n",
      "Solving rotation angles for matrix M:\n",
      "Initializing close to the actual root:  [0.70108685 1.2219993  0.52711513]\n",
      "Initializing all the values to zero:  [44.15651886 26.20554166 50.12496341]\n",
      "Initializing randomly:  [0.32979438 1.1471521  0.07073858]\n",
      "\n",
      "Solving rotation angles for matrix N: \n",
      "Initializing close to the actual root:  [ 0.10080303  1.57079633 -0.0737299 ]\n",
      "Initializing all the values to zero:  [40.29491637 39.26990818 40.12038344]\n",
      "Initializing randomly:  [146.30797444 139.80087309  -4.66300586]\n"
     ]
    },
    {
     "name": "stderr",
     "output_type": "stream",
     "text": [
      "/home/pranjali/anaconda3/envs/mr_assignment1/lib/python3.8/site-packages/scipy/optimize/minpack.py:175: RuntimeWarning: The iteration is not making good progress, as measured by the \n",
      "  improvement from the last ten iterations.\n",
      "  warnings.warn(msg, RuntimeWarning)\n"
     ]
    }
   ],
   "source": [
    "# Finding the true values of the Euler angles from the rotation matrix\n",
    "def rotationMatrixToEulerAngles(R) :\n",
    "    \n",
    "    if R[2,0]*R[2,0] == 1:\n",
    "        alpha = 0\n",
    "        if R[2,0] == -1:\n",
    "            beta = np.pi/2\n",
    "            gamma = np.arctan2(R[0,1], R[1,1]) \n",
    "        else:\n",
    "            beta = - np.pi/2\n",
    "            gamma = - np.arctan2(R[0,1], R[1,1])\n",
    "    else:\n",
    "        beta = np.arctan2(-R[2,0], math.sqrt(R[0,0]*R[0,0] + R[1,0]*R[1,0]))\n",
    "        alpha = np.arctan2(R[1,0]/np.cos(beta), R[0,0]/np.cos(beta))\n",
    "        gamma = np.arctan2(R[2,1]/np.cos(beta), R[2,2]/np.cos(beta))\n",
    "\n",
    "    return np.array([alpha, beta, gamma])\n",
    "\n",
    "# Euler angle ZYX notation used which outputs the actual correct rotation angles in the order Z, Y, X respectively\n",
    "Correct_root1 = rotationMatrixToEulerAngles(M)\n",
    "Correct_root2 = rotationMatrixToEulerAngles(N)\n",
    "\n",
    "print(\"The real root of M: \", Correct_root1)\n",
    "print(\"The real root of N: \", Correct_root2, \"\\n\")\n",
    "# All values printed in radians\n",
    "print(\"Roots found using fsolve method:\\n\")\n",
    "# Initializing close to the actual root\n",
    "root1_1 = returnEulerAngles(func1,[2*np.pi/9.7, 7*np.pi/17.6, np.pi/6.4])\n",
    "# Initializing randomly\n",
    "root1_2 = returnEulerAngles(func1,[0, 0, 0])\n",
    "# Initializing randomly\n",
    "root1_3 = returnEulerAngles(func1,[np.random.randint(-90, 90)*np.pi/180, np.random.randint(0, 180)*np.pi/180, np.random.randint(0, 180)*np.pi/180])\n",
    "\n",
    "# Initializing close to the actual root\n",
    "root2_1 = returnEulerAngles(func2,[0.01, np.pi/2.3, -np.pi/18.1])\n",
    "# Initializing randomly\n",
    "root2_2 = returnEulerAngles(func2,[0,0,0])\n",
    "# Initializing randomly\n",
    "root2_3 = returnEulerAngles(func2,[np.random.randint(-90, 90)*np.pi/180, np.random.randint(0, 180)*np.pi/180, np.random.randint(0, 180)*np.pi/180])\n",
    "\n",
    "print(\"Solving rotation angles for matrix M:\")\n",
    "print(\"Initializing close to the actual root: \", root1_1)\n",
    "print(\"Initializing all the values to zero: \", root1_2)\n",
    "print(\"Initializing randomly: \", root1_3)\n",
    "\n",
    "print(\"\\nSolving rotation angles for matrix N: \")\n",
    "print(\"Initializing close to the actual root: \", root2_1)\n",
    "print(\"Initializing all the values to zero: \", root2_2)\n",
    "print(\"Initializing randomly: \", root2_3)"
   ]
  },
  {
   "cell_type": "markdown",
   "id": "735953b2",
   "metadata": {},
   "source": [
    "We observe that if the values are initialized close to the correct values, fsolve solves it correctly than when initialized far away from the true values. "
   ]
  },
  {
   "cell_type": "markdown",
   "id": "be1a61d5",
   "metadata": {},
   "source": [
    "3. Euler angles have a major deficiency, and that is, that it is possible, in some rotation sequences, to reach a situation where two of the three Euler angles cause rotation around the same axis of the object. In the case for example, rotation around the x axis becomes indistinguishable in its effect from rotation around the z axis, so the z and x axis angles collapse into one transformation, and the rotation reduces from three degrees of freedom to two. So the loss of one degree of freedom in 3-D is called Gimbal lock. It makes Euler angles unsuited for practical applications. "
   ]
  },
  {
   "cell_type": "code",
   "execution_count": 14,
   "id": "78134544",
   "metadata": {},
   "outputs": [],
   "source": [
    "# 4\n",
    "def animate_rotation(alpha, beta, gamma, pcd, vis):\n",
    "    \n",
    "    one_degree = np.pi/180\n",
    "    steps = 100\n",
    "    \n",
    "    forward_step = np.array([one_degree*alpha/steps, one_degree*beta/steps, one_degree*gamma/steps])\n",
    "    for i in range(steps-1):\n",
    "        \n",
    "        pcd.rotate(np.transpose(pcd.get_rotation_matrix_from_xyz(((i)*forward_step[0],(i)*forward_step[1],(i)*forward_step[2]))),\n",
    "              center=pcd.get_center())\n",
    "        pcd.rotate(pcd.get_rotation_matrix_from_xyz((i+1)*forward_step),\n",
    "              center=pcd.get_center())\n",
    "        vis.update_geometry(pcd)\n",
    "        vis.poll_events()\n",
    "        vis.update_renderer()\n",
    "        \n",
    "pcd__ = copy.deepcopy(pcd)\n",
    "\n",
    "vis = o3d.visualization.Visualizer()\n",
    "vis.create_window()\n",
    "# pcd__.rotate(pcd__.get_rotation_matrix_from_xyz((np.pi/6,np.pi/2,0)))\n",
    "vis.add_geometry(pcd__)\n",
    "pcd_copy = copy.deepcopy(pcd__)\n",
    "pcd_2 = copy.deepcopy(pcd)\n",
    "pcd_2.paint_uniform_color([0.9,0,0.1])\n",
    "# pcd_2.rotate(pcd_2.get_rotation_matrix_from_xyz((0,np.pi/2,np.pi/6)))\n",
    "vis.add_geometry(pcd_2)\n",
    "\n",
    "\n",
    "animate_rotation(0,90,30,pcd__, vis)\n",
    "animate_rotation(30,90,0,pcd_2, vis)\n",
    "vis.run()\n",
    "vis.destroy_window()"
   ]
  },
  {
   "cell_type": "markdown",
   "id": "b2ba66d2",
   "metadata": {},
   "source": [
    "## b) Quaternions\n",
    "\n",
    "1. What makes Quaternions popular in graphics? \n",
    "2. Convert a rotation matrix to quaternion and vice versa. Do not use inbuilt libraries for this question.\n",
    "3. Perform matrix multiplication of two $\\mathcal{R}_{3 \\times 3}$ rotation matrices and perform the same transformation in the quaternion space. Verify if the final transformation obtained in both the cases are the same.\n",
    "4. Try to interpolate any 3D model (cube / bunny / not sphere obviously!!) between two rotation matrices and visualize!\n",
    "\n",
    "The above questions require you to **code your own functions** and **only verify** using inbuilt functions."
   ]
  },
  {
   "cell_type": "markdown",
   "id": "15c9cda3",
   "metadata": {},
   "source": [
    "1. Euler angles faces challenges of Gimbal lock. But quaternions can easily overcome that as the computation just involves the multiplication of two numbers (with 4 elements each) which is also faster than matrix multiplication (3,3 = 9 elements for one matrix). For example in aircraft and rocket, changes in its orientation can be given by three rotations known as pitch, roll and yaw, represented by three arrays of numbers called matrices. But when two rotation axes align, an ambiguity arises that can result in catastrophic loss of control (gimbal lock). In such situation using quaternions is helpful. The quaternion algebra also allows us to easily compose rotations. Also they provide convenient mathematical notation for representing spatial orientations and rotations of elements in three dimensional space. Specifically, they encode information about an axis-angle rotation about an arbitrary axis. "
   ]
  },
  {
   "cell_type": "code",
   "execution_count": 15,
   "id": "f16c490c",
   "metadata": {},
   "outputs": [],
   "source": [
    "# 2 \n",
    "# Get quaternions from the rotation matrix\n",
    "def rotMat_to_quaternion(rotMat):\n",
    "#     print(rotMat[0,0])\n",
    "#     print(rotMat[1,1])\n",
    "#     print(rotMat[2,2])\n",
    "    trace_rotMat = rotMat[0,0] + rotMat[1,1] + rotMat[2,2]\n",
    "#     print(trace_rotMat)\n",
    "\n",
    "\n",
    "    q0 = math.sqrt((trace_rotMat + 1)/4)\n",
    "    q0_inv = 0.25/q0\n",
    "    q1 = (rotMat[2,1] - rotMat[1,2])*q0_inv\n",
    "    q2 = (rotMat[0,2] - rotMat[2,0])*q0_inv\n",
    "    q3 = (rotMat[1,0] - rotMat[0,1])*q0_inv\n",
    "    \n",
    "    return np.array([q0, q1, q2, q3])"
   ]
  },
  {
   "cell_type": "code",
   "execution_count": 16,
   "id": "1acd3dac",
   "metadata": {},
   "outputs": [],
   "source": [
    "# 2 \n",
    "# Get rotation matrix from quaternions\n",
    "def quaternion_to_rotMat(q):\n",
    "    rotMatrix = np.zeros((3, 3))\n",
    "    \n",
    "    rotMatrix[0,0] = q[0]*q[0] + q[1]*q[1] - 0.5\n",
    "    rotMatrix[0,1] = q[1]*q[2] - q[0]*q[3] \n",
    "    rotMatrix[0,2] = q[0]*q[2] + q[1]*q[3]\n",
    "    rotMatrix[1,0] = q[0]*q[3] + q[1]*q[2]\n",
    "    rotMatrix[1,1] = q[0]*q[0] + q[2]*q[2] - 0.5\n",
    "    rotMatrix[1,2] = q[2]*q[3] - q[0]*q[1]\n",
    "    rotMatrix[2,0] = q[1]*q[3] - q[0]*q[2]\n",
    "    rotMatrix[2,1] = q[0]*q[1] + q[2]*q[3]\n",
    "    rotMatrix[2,2] = q[0]*q[0] + q[3]*q[3] - 0.5\n",
    "    \n",
    "    rotMatrix = 2*rotMatrix\n",
    "    return rotMatrix"
   ]
  },
  {
   "cell_type": "code",
   "execution_count": 17,
   "id": "9c4fd3c5",
   "metadata": {
    "scrolled": true
   },
   "outputs": [
    {
     "name": "stdout",
     "output_type": "stream",
     "text": [
      "Rotaion matrix 1 for [0, 0, 30]: \n",
      " [[ 0.8660254 -0.5        0.       ]\n",
      " [ 0.5        0.8660254  0.       ]\n",
      " [ 0.         0.         1.       ]] \n",
      "\n",
      "Rotaion matrix 2 for [30, 0, 0]: \n",
      " [[ 1.         0.         0.       ]\n",
      " [ 0.         0.8660254 -0.5      ]\n",
      " [ 0.         0.5        0.8660254]] \n",
      "\n",
      "Quaternion corrersponding to rotation matrix 1:  [0.96592583 0.         0.         0.25881905]\n",
      "Quaternion corrersponding to rotation matrix 2:  [0.96592583 0.25881905 0.         0.        ] \n",
      "\n",
      "Observe the rotation matrices calculated from the rotation angles and quaternions is same.\n",
      "\n",
      "Rotation matrix corrersponding to quaternion 1: \n",
      " [[ 0.8660254 -0.5        0.       ]\n",
      " [ 0.5        0.8660254  0.       ]\n",
      " [ 0.         0.         1.       ]]\n",
      "Rotation matrix corrersponding to quaternion 2: \n",
      " [[ 1.         0.         0.       ]\n",
      " [ 0.         0.8660254 -0.5      ]\n",
      " [ 0.         0.5        0.8660254]]\n"
     ]
    }
   ],
   "source": [
    "# Getting the rotation matrices from the rotation angles\n",
    "rotmax1 = getRotationMatrix(0, 0, np.pi/6)\n",
    "rotmax2 = getRotationMatrix(np.pi/6, 0, 0)\n",
    "\n",
    "print(\"Rotaion matrix 1 for [0, 0, 30]: \\n\", rotmax1, \"\\n\")\n",
    "print(\"Rotaion matrix 2 for [30, 0, 0]: \\n\", rotmax2 ,\"\\n\")\n",
    "\n",
    "# get quaternions for the above rotation matrix\n",
    "q1 = rotMat_to_quaternion(rotmax1)\n",
    "q2 = rotMat_to_quaternion(rotmax2)    \n",
    "print(\"Quaternion corrersponding to rotation matrix 1: \", q1)\n",
    "print(\"Quaternion corrersponding to rotation matrix 2: \", q2, \"\\n\")\n",
    "\n",
    "# check if the R matirx calculated both ways is same\n",
    "# Converting from quaternion to rotaion matrix\n",
    "rotmax1_q1 = quaternion_to_rotMat(q1)\n",
    "rotmax2_q2 = quaternion_to_rotMat(q2)\n",
    "print(\"Observe the rotation matrices calculated from the rotation angles and quaternions is same.\\n\")\n",
    "print(\"Rotation matrix corrersponding to quaternion 1: \\n\", rotmax1_q1)\n",
    "print(\"Rotation matrix corrersponding to quaternion 2: \\n\", rotmax2_q2)\n",
    "\n",
    "# check of the quaternion calculated through R matrix in same\n"
   ]
  },
  {
   "cell_type": "code",
   "execution_count": 18,
   "id": "bd6902e7",
   "metadata": {},
   "outputs": [],
   "source": [
    "# Multiply two quaternions\n",
    "def Multiply_2_quaternions(q, p):\n",
    "    \n",
    "    rotq00 = q[0]*p[0] - q[1]*p[1] - q[2]*p[2] - q[3]*p[3] \n",
    "    rotq01 = q[0]*p[1] + q[1]*p[0] + q[2]*p[3] - q[3]*p[2]  \n",
    "    rotq02 = q[0]*p[2] + q[2]*p[0] - q[1]*p[3] + q[3]*p[1] \n",
    "    rotq03 = q[0]*p[3] + q[3]*p[0] + q[1]*p[2] - q[2]*p[1] \n",
    "    \n",
    "    return np.array([rotq00, rotq01, rotq02, rotq03])"
   ]
  },
  {
   "cell_type": "code",
   "execution_count": 25,
   "id": "7b152abc",
   "metadata": {
    "scrolled": true
   },
   "outputs": [
    {
     "name": "stdout",
     "output_type": "stream",
     "text": [
      "Resultant vector after quaternion multiplication: [ 0.9330127  0.25      -0.0669873  0.25     ] \n",
      "\n",
      "Product of two rotation matrices: \n",
      " [[ 0.8660254 -0.5        0.       ]\n",
      " [ 0.4330127  0.75      -0.5      ]\n",
      " [ 0.25       0.4330127  0.8660254]] \n",
      "\n",
      "Finding the quaternion from the result of the matrix multiplication which is equal to the result of the multiplication  of the two quaternions performed in quaternion space: [ 0.9330127  0.25      -0.0669873  0.25     ]\n"
     ]
    }
   ],
   "source": [
    "# 3 Perform matrix multiplication of two 3×3 rotation matrices and perform the same transformation in the quaternion space.\n",
    "# Performing multiplication in quaternion space for the above two quaternions\n",
    "resq = Multiply_2_quaternions(q2, q1)\n",
    "print(\"Resultant vector after quaternion multiplication:\", resq ,\"\\n\")\n",
    "\n",
    "# Multiplying above two rotation matrices\n",
    "rotq = np.matmul(rotmax2, rotmax1)\n",
    "print(\"Product of two rotation matrices: \\n\", rotq ,\"\\n\")\n",
    "\n",
    "# Finding the equivalent quaternion for the above product \n",
    "rotq_q = rotMat_to_quaternion(rotq)\n",
    "print(\"Finding the quaternion from the result of the matrix multiplication which is equal to the result of the multiplication  of the two quaternions performed in quaternion space:\", rotq_q)\n",
    "# Since rotq_q = resq, hence same transformation is performed in quaternion space"
   ]
  },
  {
   "cell_type": "code",
   "execution_count": 26,
   "id": "b4c47fd5",
   "metadata": {},
   "outputs": [],
   "source": [
    "# 4\n",
    "def norm(q):\n",
    "    return (math.sqrt(q[0]**2 + q[1]**2 + q[2]**2 + q[3]**2))\n",
    "def slerp(p0, p1, t):\n",
    "    omega = 0\n",
    "    if norm(p0) == 0:\n",
    "        omega = np.arccos(np.dot(p0, p1/norm(p1)))\n",
    "    elif norm(p1) == 0:\n",
    "        omega = np.arccos(np.dot(p0/norm(p0), p1))\n",
    "    else:  \n",
    "        omega = np.arccos(np.dot(p0/norm(p0), p1/norm(p1)))\n",
    "    so = np.sin(omega)\n",
    "    return np.sin((1.0-t)*omega) / so * p0 + np.sin(t*omega)/so * p1\n",
    "\n",
    "mesh = o3d.io.read_triangle_mesh(\"./data/bunny.ply\")\n",
    "\n",
    "# Convert mesh to point cloud \n",
    "pcd = mesh.sample_points_uniformly(number_of_points=50000)\n",
    "\n",
    "q0 = rotMat_to_quaternion(pcd.get_rotation_matrix_from_xyz((0,0,0)))\n",
    "q1 = rotMat_to_quaternion(pcd.get_rotation_matrix_from_xyz((0,np.pi/2,0)))\n",
    "q_inter = slerp(q0,q1,0.1)\n",
    "\n",
    "#initial bunny\n",
    "pcd_initial = copy.deepcopy(pcd)\n",
    "pcd_initial.paint_uniform_color([0.1,0,0.8])\n",
    "pcd_initial.translate((-0.3,0,0))\n",
    "\n",
    "#interpolated \n",
    "pcd_inter = copy.deepcopy(pcd)\n",
    "pcd_inter.paint_uniform_color([0.8,0,0.1])\n",
    "\n",
    "pcd_final = copy.deepcopy(pcd)\n",
    "pcd_final.paint_uniform_color([0.5,0,0.5])\n",
    "pcd_final.translate((0.3,0,0))\n",
    "\n",
    "pcd_initial.rotate(quaternion_to_rotMat(q0),center=pcd_initial.get_center())\n",
    "pcd_inter.rotate(quaternion_to_rotMat(q_inter),center=pcd_inter.get_center())\n",
    "pcd_final.rotate(quaternion_to_rotMat(q1),center=pcd_final.get_center())\n",
    "\n",
    "o3d.visualization.draw_geometries([pcd_initial, pcd_inter, pcd_final])"
   ]
  },
  {
   "cell_type": "markdown",
   "id": "b31ad21a",
   "metadata": {},
   "source": [
    "In the above visualization, the blue image is the initial bunny, red is the intermediate bunny and violet the final bunny. Using spherical linear interpolation (slerp) formula, we've calculated the interpolated quaternion and used it to display the intermediate bunny."
   ]
  },
  {
   "cell_type": "markdown",
   "id": "bdd83bb5",
   "metadata": {},
   "source": [
    "## c) Exponential maps (Bonus)\n",
    "\n",
    "1. What is the idea behind exponential map representation of rotation matrices?\n",
    "2. Perform matrix exponentiation and obtain the rotation matrix to rotate a vector $P$ around $\\omega$ for $\\theta$ seconds.\n",
    "$$\n",
    "\\omega = \\begin{bmatrix}2 \\\\ 1 \\\\ 15 \\end{bmatrix}\n",
    "$$\n",
    "\n",
    "$$\n",
    "\\theta = 4.1364\n",
    "$$\n",
    "\n",
    "3. Compute the logarithmic map (SO(3) to so(3)) of the rotation matrix to obtain the rotation vector and the angle of rotation\n",
    "$$\n",
    "\\begin{bmatrix}\n",
    "0.1 &  -0.9487 & 0.3 \\\\\n",
    "0.9487 & 0.  & -0.3162 \\\\\n",
    "0.3   &  0.3162  & 0.9 \n",
    "\\end{bmatrix}\n",
    "$$\n",
    "You can use inbuilt libraries **only to verify** your results."
   ]
  },
  {
   "cell_type": "markdown",
   "id": "46196412",
   "metadata": {},
   "source": [
    "1. The exponential map transforms skew-symmetric matrices into orthogonal matrices, and every rotation matrix can be represented as the matrix exponential of some skew-symmetric matrix. Also rotation is parameterized by a rotation in a three-dimensional Euclidean space by just two quantities which are a unit vector indicating the direction of an axis of rotation, and an angle θ describing the magnitude of the rotation about the axis. Only two numbers (not three or more which are used in other representations), are needed to define the direction of a unit vector at the origin because the magnitude of that vector is constrained. It represents that any rotation or sequence of rotations of a rigid body in a three-dimensional space is equivalent to a pure rotation about a single fixed axis."
   ]
  },
  {
   "cell_type": "code",
   "execution_count": 27,
   "id": "3663e0ed",
   "metadata": {},
   "outputs": [],
   "source": [
    "# 2\n",
    "# Obtaining the rotation matrix form the given vector and theta\n",
    "def matEx(w, t):\n",
    "    mod_w = math.sqrt(w[0]*w[0] + w[1]*w[1] + w[2]*w[2]) \n",
    "    x = w[0]/mod_w\n",
    "    y = w[1]/mod_w\n",
    "    z = w[2]/mod_w\n",
    "    ct = np.cos(t)\n",
    "    st = np.sin(t)\n",
    "    \n",
    "    rotMatrix = np.zeros((3, 3))\n",
    "    \n",
    "    rotMatrix[0,0] = x*x*(1-ct) + ct\n",
    "    rotMatrix[0,1] = x*y*(1-ct) - z*st\n",
    "    rotMatrix[0,2] = x*z*(1-ct) + y*st\n",
    "    rotMatrix[1,0] = x*y*(1-ct) + z*st\n",
    "    rotMatrix[1,1] = y*y*(1-ct) + ct\n",
    "    rotMatrix[1,2] = y*z*(1-ct) - x*st\n",
    "    rotMatrix[2,0] = x*z*(1-ct) - y*st\n",
    "    rotMatrix[2,1] = y*z*(1-ct) + x*st\n",
    "    rotMatrix[2,2] = z*z*(1-ct) + ct\n",
    "    \n",
    "    return rotMatrix\n",
    "    "
   ]
  },
  {
   "cell_type": "code",
   "execution_count": 28,
   "id": "71353f56",
   "metadata": {},
   "outputs": [
    {
     "name": "stdout",
     "output_type": "stream",
     "text": [
      "Rotation matrix for rotation along the direction of the vector [2,1,15] with an angle 237 degree:\n",
      " [[-0.51780074  0.84292002  0.14617876]\n",
      " [-0.81605629 -0.53794854  0.21133741]\n",
      " [ 0.25677718 -0.00985943  0.96642034]]\n"
     ]
    }
   ],
   "source": [
    "# Perform matrix exponentiation\n",
    "w = np.array([2,1,15])\n",
    "theta = 4.1364\n",
    "R = matEx(w, theta)\n",
    "print(\"Rotation matrix for rotation along the direction of the vector [2,1,15] with an angle 237 degree:\\n\", R)"
   ]
  },
  {
   "cell_type": "code",
   "execution_count": 29,
   "id": "2fceae11",
   "metadata": {},
   "outputs": [],
   "source": [
    "# 3\n",
    "# Obtaining the logarithmic map\n",
    "def logMap(R):\n",
    "    tr = R[0,0] + R[1,1] + R[2,2]\n",
    "    \n",
    "#     print(tr)\n",
    "    if (R == np.eye(3)).all():\n",
    "        theta = 0\n",
    "        w = np.array([\"nan\", \"nan\", \"nan\"])\n",
    "    elif tr ==  -1:\n",
    "#         print(\"In\")\n",
    "        theta = np.pi\n",
    "        r1 = 1/math.sqrt(2*(1 + R[2][2]))\n",
    "        r2 = 1/math.sqrt(2*(1 + R[1][1]))\n",
    "        r3 = 1/math.sqrt(2*(1 + R[0][0]))\n",
    "        w1 = r1*R[0][2] + r2*R[0][1] + r3*(1 + R[0][0])\n",
    "        w2 = r1*R[1][2] + r2*(1 + R[1][1]) + r3*R[1][0]\n",
    "        w3 = r1*(1 + R[2][2]) + r2*R[2][1] + r3*R[2][0]\n",
    "        w = np.array(w1, w2, w3)\n",
    "    else:\n",
    "#         print(\"INNN\")\n",
    "        theta = np.arccos(0.5*(tr-1))\n",
    "        w_square = (1/np.sin(theta))*(R - R.T)\n",
    "        w = np.array([w_square[2,1], w_square[0,2], w_square[1,0]])\n",
    "    return theta , w;\n",
    "    "
   ]
  },
  {
   "cell_type": "code",
   "execution_count": 30,
   "id": "bd6e4fd4",
   "metadata": {},
   "outputs": [
    {
     "name": "stdout",
     "output_type": "stream",
     "text": [
      "Rotation vector for the given rotation matrix:  [0.6324 0.     1.8974]\n",
      "Rotation angle for the given rotation matrix:  1.5707963267948966\n"
     ]
    }
   ],
   "source": [
    "given_R = np.array([[0.1, -0.9487, 0.3], [0.9487, 0, -0.3162], [0.3, 0.3162, 0.9]])\n",
    "# print(given_R)\n",
    "theta_out, R_out  = logMap(given_R)\n",
    "# Angle values given in radians\n",
    "print(\"Rotation vector for the given rotation matrix: \", R_out)\n",
    "print(\"Rotation angle for the given rotation matrix: \", theta_out)"
   ]
  },
  {
   "cell_type": "markdown",
   "id": "475622c2",
   "metadata": {},
   "source": [
    "# 3. Data representations"
   ]
  },
  {
   "cell_type": "markdown",
   "id": "d198f702",
   "metadata": {},
   "source": [
    "## a) Octomaps\n",
    "\n",
    "1. Why is an Octomap memory efficient?\n",
    "2. When do we update an Octomap and why?\n",
    "3. When would you likely use an octomap instead of a point cloud?\n",
    " "
   ]
  },
  {
   "cell_type": "markdown",
   "id": "093dcd98",
   "metadata": {},
   "source": [
    "\n",
    "1.  For the memory compression in octomap, all nodes are converted to their maximum likelihood probabilities, followed by tree pruning. This yields an even compression and less memory requirements. Each node in the tree stores in addition to the data payload the coordinate of its center location, its voxel size, and pointers to its children. But this can use substantial amount of memory. Since the node location and its voxel size can be reconstructed while traversing the octree, we do not explicitly store this information in the nodes to reduce the memory overhead. Any leaf node in the octree only stores the mapping data itself and one (null) pointer. Inner nodes additionally store eight pointers to their children. This saves 2/3rd of memory compared to allocating 8 pointers for each node. Octree maps can be recursively encoded as a compact bit stream while saving it as a map file. Each node is represented only by the eight labels of its children. Beginning at the root node, each child that is not a leaf is recursively added to the bit stream. Leaf nodes do not have to be added since they can be reconstructed from their label during the decoding process. The last row only contains leafs so no further nodes are added. This way octomap is memory efficient. \n",
    "\n",
    "\n",
    "2. Whenever the log-odds value of a voxel reaches either the lower bound or the upper bound, we consider the node as stable in our approach. Which means stable nodes have been measured free or occupied with high confidence.  If all children of an inner tree node are stable leaf nodes with the same occupancy state, then the children can be pruned. When measurement to be integrated contradict the state of the corresponding inner node, then its children are regenerated and the map is updated accordingly. In octomaps we use one child pointer per node that points to an array of eight pointers. This array is only allocated if the node indeed has children and is not allocated for leaf nodes.\n",
    "\n",
    "\n",
    "3. We would likely use an octomap instead of point cloud when:\n",
    "    1. We have limited memory. Point clouds need to store large amounts of measurement points and therefore require a lot of meanory and are not memory efficient. \n",
    "    2. To distinguish between obstacle-free and unmapped areas as point clouds do not allow to differentiate between obstacle-free and unmapped areas and provide no means of fusing multiple measurements probabilistically.\n",
    "    3. Also, point clouds are only suitable for high precision sensors in static environments and when unknown areas do not need to be represented. So where we need to represent arbitrary environment octomaps is a better choice. "
   ]
  },
  {
   "cell_type": "markdown",
   "id": "be2905e4",
   "metadata": {},
   "source": [
    "## b) Signed Distance Functions\n",
    "\n",
    "1. How do we determine object surfaces using SDF?\n",
    "2. How do we aggregate views from multiple cameras? (just a general overview is fine)\n",
    "3. Which preserves details better? Voxels or SDF? Why?\n",
    "4. What’s an advantage of SDF over a point cloud?\n"
   ]
  },
  {
   "cell_type": "markdown",
   "id": "68ccb9d1",
   "metadata": {},
   "source": [
    "\n",
    "1. Signed Distance Function (SDF) gives us a distance of point X from the boundary of a surface. The major advantage of this function is to determine if a point lies inside the boundary of the surface or outside the boundary. The surface is at those locations where SDF function is 0. The function has positive values at points x inside the surface, it decreases in value as approaches the boundary of the surface where the signed distance function is zero, and it takes negative values outside of the surface.\n",
    "\n",
    "2. For SDF we store the distance and the weight values for each voxel and these values are updated in each iteration. When the ray is projected from the sensor origin to the surface, we compute projective distance from each voxel. When we have multiple sensor measurements  we update the voxel map with the distances to the nearest surface. We fuse the information from every camera and we perform weighted average to update each cell. The weight is initialized to zero, and is incremented every time we get new sensor measurements. The weight value acts as an measure of confidence for the distance calculated. The weight and distance updation strategy is different for different implementations. The voxels that are being intersected with the ray are updated in every iteration. Finally differnt aggregation strategies are used to update the map information like weighted average to produce the final map.       \n",
    "\n",
    "3. Occupancy grid maps or voxels store the occupancy probability for each voxels whereas SDF will get actual distance value to the surface and indicates if the voxel is present inside or outside the surface. In SDF the noise cancels out over multiple measurements and zero crossing can be extracted at sub-voxel accuracy (least square estimate). In applications such a path planning where knowing distance to a surface is of high importance SDF is better implemented than voxels. In occupancy grid only single value of occupancy probability is stored and ESDF cannot be directly computed data can only be compressed moderately whereas in TSDF distance and weight values are stored and ESDF can be calculated directly and also allows higher compression of the data.     \n",
    "\n",
    "4. SDF representations proved to be especially efﬁcient forfont rendering than point clouds. Also in point clouds outside and inside of a surface is not defined. Point clouds do not describe topology and are not suitable for producing watertight surfaces. Also point cloud is represented explicitly where geometry is not stored explicitly but rather a function defined over a surface is embedded whereas in point clouds the geometry is stored explicitly as a list of points. Using point clouds closed and multivalued surfaces are difficult to represent. Also occupancy information is not provided by point clouds. So, SDF is advantageous when modeling shapes with complex and/or changing topology and provides very suitable representation for constructive solid geometry.      "
   ]
  },
  {
   "cell_type": "markdown",
   "id": "65bc2fd8",
   "metadata": {},
   "source": [
    "# References and Resources\n",
    "\n",
    "1. Gimbal locks and quaternions: https://youtu.be/YF5ZUlKxSgE\n",
    "2. Exponential map: \n",
    "    1. 3 Blue 1 Brown: https://youtu.be/O85OWBJ2ayo\n",
    "    2. Northwestern Robotics: https://youtu.be/v_KBHaG0mas\n",
    "3. Bunny ply is taken from: http://graphics.im.ntu.edu.tw/~robin/courses/cg03/model/"
   ]
  }
 ],
 "metadata": {
  "kernelspec": {
   "display_name": "Python 3 (ipykernel)",
   "language": "python",
   "name": "python3"
  },
  "language_info": {
   "codemirror_mode": {
    "name": "ipython",
    "version": 3
   },
   "file_extension": ".py",
   "mimetype": "text/x-python",
   "name": "python",
   "nbconvert_exporter": "python",
   "pygments_lexer": "ipython3",
   "version": "3.8.11"
  }
 },
 "nbformat": 4,
 "nbformat_minor": 5
}
